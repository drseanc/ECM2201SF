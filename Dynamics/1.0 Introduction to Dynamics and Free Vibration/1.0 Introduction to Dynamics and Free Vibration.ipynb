{
 "cells": [
  {
   "cell_type": "code",
   "execution_count": 5,
   "metadata": {
    "deletable": false,
    "editable": false,
    "hide_input": true
   },
   "outputs": [
    {
     "name": "stdout",
     "output_type": "stream",
     "text": [
      "- Dependencies imported 👍\n",
      "- Remember to select 'Kernel-> Restart & Run All' on first load to show embedded Youtube videos 🎬\n",
      "- Author: Dr SPCarroll, Sept 2020, Rev 1\n"
     ]
    }
   ],
   "source": [
    "#DEPENDENCIES & INITIALISATIONS\n",
    "from IPython.display import HTML #For embedding videos\n",
    "import math #Basic math functionality\n",
    "import numpy as np #Numpy for working with arrays\n",
    "import matplotlib.pyplot as plt #Plotting functionality \n",
    "#HTML('<center><iframe width=\"560\" height=\"315\" src=\"#\" frameborder=\"0\" allowfullscreen></iframe></center>')\n",
    "print(\"- Dependencies imported 👍\")\n",
    "print(\"- Remember to select 'Kernel-> Restart & Run All' on first load to show embedded Youtube videos 🎬\")\n",
    "print(\"- Author: Dr SPCarroll, Sept 2020, Rev 1\")"
   ]
  },
  {
   "cell_type": "markdown",
   "metadata": {},
   "source": [
    "![title](img/banner.jpg)"
   ]
  },
  {
   "cell_type": "markdown",
   "metadata": {},
   "source": [
    "# 1.0 Introduction to Dynamics & Free Vibration\n",
    "*Reference: Dynamics of Structures, Clough and Penzien*"
   ]
  },
  {
   "cell_type": "markdown",
   "metadata": {},
   "source": [
    "Most of your time to date has been spent considering static analysis. This is because most of the loads you will consider in general day-to-day civil engineering can be considered static loads, e.g. typical permanent and variable loads. \n",
    "\n",
    "A static load has two important characteristics that distinguish it from a dynamic load:"
   ]
  },
  {
   "cell_type": "markdown",
   "metadata": {},
   "source": [
    "<mark><b>💡(i) The magnitude of a static load does not vary with time. And (ii), for a load to be considered static, it must be applied 'slowly'. We'll discuss this in more detail below<b></mark>"
   ]
  },
  {
   "cell_type": "markdown",
   "metadata": {},
   "source": [
    "Aside:  The term 'variable load' used above, is used for loads that do have the potential to vary with time, e.g. loading due to occupancy in a building, but this is not considered a dynamic load in the context of this discussion as the rate of change of the load magnitude can be considered low. This will be more clearly understood by the end of this lecture.\n",
    "\n",
    "If an applied load qualifies and can be considered a static load, we can expect a static structural response, i.e. for a given load magnitude, we observe a single structural response (deflection). The deflection of the structure will be governed by the load magnitude, $p$ and the stiffness of the structure $K$ according to the standard relationship,\n",
    "\n",
    "\\begin{equation}\n",
    "p = K\\times\\delta\n",
    "\\end{equation}"
   ]
  },
  {
   "cell_type": "markdown",
   "metadata": {},
   "source": [
    "We can illustrate the basic idea of static loading and response by considering the beam below subject to an external force $p(t)$, Fig 1. "
   ]
  },
  {
   "cell_type": "markdown",
   "metadata": {},
   "source": [
    "![title](img/img1.jpg)\n",
    "<center>Fig 1. Cantilever beam subject to a static load and exhibiting a static deflection.</center>"
   ]
  },
  {
   "cell_type": "markdown",
   "metadata": {},
   "source": [
    "Notice that although the external force is actually as a function of time $t$, the duration of load application is highlighted as being long, i.e. the load slowly increases in magnitude from zero to its maximum value. "
   ]
  },
  {
   "cell_type": "markdown",
   "metadata": {},
   "source": [
    "## 1.1 Dynamic versus static problems"
   ]
  },
  {
   "cell_type": "markdown",
   "metadata": {},
   "source": [
    "Although we said that we typically encounter static loading, dynamic loads occur with sufficient frequency that we need to understand how to assess their influence on a structure. Typical forms of dynamic loading can include loading due to earthquakes, wind, vehicle or pedestrian traffic or wave loading on coastal or offshore structures. \n",
    "\n",
    "As you might assume from the preceding discussion, a dynamic load has a magnitude that varies as a function of time. It may also be a load that is applied rapidly to a structure. Consider the same beam as above, with the same applied load except this time the load is applied more rapidly $t1>>t2$, notice the different structural response, Fig 2."
   ]
  },
  {
   "cell_type": "markdown",
   "metadata": {},
   "source": [
    "![title](img/img2.jpg)\n",
    "<center>Fig 2. Dynamic response to a rapidly applied load.</center>"
   ]
  },
  {
   "cell_type": "markdown",
   "metadata": {},
   "source": [
    "### 1.1.1 Inertia"
   ]
  },
  {
   "cell_type": "markdown",
   "metadata": {},
   "source": [
    "The load applied in Fig 2. above is applied 'dynamically' (quickly) and as a result we observe a dynamic structural response. This response is the result of inertia."
   ]
  },
  {
   "cell_type": "markdown",
   "metadata": {},
   "source": [
    "<mark><b>💡Inertia is a bodies resistance to a change in its velocity. This resistance can be modelled with an inertia force.<b></mark>"
   ]
  },
  {
   "cell_type": "markdown",
   "metadata": {},
   "source": [
    "![title](img/img3.jpg)\n",
    "<center>Fig 3. Inertia resisting a change in velocity.</center>"
   ]
  },
  {
   "cell_type": "markdown",
   "metadata": {},
   "source": [
    "With reference to the image above, \n",
    "- If I want to change the velocity of the mass, $M$, this will give rise to an acceleration (rate of change of velocity). Therefore there will be an inertia force I must overcome if I want to change the velocity of the ball.\n",
    "\n",
    "\n",
    "- Once the ball is moving, if I remove the external force, $F(t)$, the ball will stay moving with a constant velocity (Newton 1). Therefore the inertia force disappears.\n",
    "\n",
    "\n",
    "- When the velocity of the ball is constant, it is in a state of dynamic equilibrium. Newton 1 tells us that a mass always wants to maintain dynamic equilibrium. This tendency of a mass to maintain dynamic equilibrium (i.e. resist changes in its velocity) can be modelled by applying an inertia force."
   ]
  },
  {
   "cell_type": "markdown",
   "metadata": {},
   "source": [
    "<mark><b>💡The inertia force is fictitious; it is not an externally applied force, but it models the behaviour of the mass, i.e. it models the masses resistance to a change in its velocity.<b></mark>"
   ]
  },
  {
   "cell_type": "markdown",
   "metadata": {},
   "source": [
    "**Inertia summary**\n",
    "\n",
    "1. All mass resists changes in its velocity (mass wants to maintain dynamic equilibrium).\n",
    "\n",
    "\n",
    "2. We can model this physical behaviour in our free body diagrams and equations by applying a *fictitious inertia force*  (known as D'Alembert's Principle).\n",
    "\n",
    "\n",
    "3. The inertia force, $F_I$ is proportional to the mass $m$, and the rate of change of velocity (acceleration), $\\dot{v}$,\n",
    "\n",
    "\\begin{equation}\n",
    "F_I = m\\times \\dot{v} = m\\times a\n",
    "\\end{equation}"
   ]
  },
  {
   "cell_type": "markdown",
   "metadata": {},
   "source": [
    "### 1.1.2 Dynamic response"
   ]
  },
  {
   "cell_type": "markdown",
   "metadata": {},
   "source": [
    "Now returning to our beam example; the displacement of the beam depends on two factors:\n",
    "\n",
    "- The time-varying external force $F(t)$\n",
    "\n",
    "\n",
    "- The inertia forces which oppose the accelerations producing them\n",
    "\n",
    "As the external load is applied quickly or dynamically, the rate of change of velocity of the beam will be high or non-negligible. We now know that this means the beam will exhibit a correspondingly high resistance to a change in its velocity. We model this by applying inertia forces, Fig 4."
   ]
  },
  {
   "cell_type": "markdown",
   "metadata": {},
   "source": [
    "![title](img/img4.jpg)\n",
    "<center>Fig 4. Inertia forces leading to a dynamic structural response.</center>"
   ]
  },
  {
   "cell_type": "markdown",
   "metadata": {},
   "source": [
    "Remember the beam deflection now depends on the external force and the relatively large inertia forces induced by the beam's acceleration. This means that the internal moments and shears in the beam must resist not only the externally applied force but also the inertial forces resulting from accelerations of the beam. "
   ]
  },
  {
   "cell_type": "markdown",
   "metadata": {},
   "source": [
    "<mark><b>💡It's the presence of inertia forces that fundamentally differentiate a dynamic problem from a static problem.<b></mark>"
   ]
  },
  {
   "cell_type": "markdown",
   "metadata": {},
   "source": [
    "If inertia forces represent a significant portion of the total loading resisted by a structure, a dynamic analysis should be performed as the dynamic characteristics of the problem cannot be ignored and the structural response will vary with time. Conversely if all external loads are applied slowly such that they do not induce significant inertia forces, the problem can be considered static with a single response corresponding to the externally applied load(s).  "
   ]
  },
  {
   "cell_type": "markdown",
   "metadata": {},
   "source": [
    "## 1.2 The Single Degree of Freedom System"
   ]
  },
  {
   "cell_type": "markdown",
   "metadata": {},
   "source": [
    "When analysing the dynamic behaviour of a structure, a common approach is to break the structure into a discrete number of *lumped masses*. In this way, the dynamic behaviour of a complex continuous structure with distributed mass and stiffness can be modelled as a collection of connected lumped masses, Fig. 5. "
   ]
  },
  {
   "cell_type": "markdown",
   "metadata": {},
   "source": [
    "![title](img/img5.jpg)\n",
    "<center>Fig 5. Multi-storey building approximated as a series of connected lumped masses.</center>"
   ]
  },
  {
   "cell_type": "markdown",
   "metadata": {},
   "source": [
    "In the simplest of these cases, we may approximate the behaviour of the structure as that of a single lumped mass free to move along a single axis, the so called single degree of freedom (SDOF) system. The diagram below shows the water tower approximated by a lumped mass on top of a massless rod. The lumped mass can oscillate laterally and thus the system has a single degree of freedom. The time-displacement trace indicates the lateral oscillations that might be observed over time."
   ]
  },
  {
   "cell_type": "markdown",
   "metadata": {},
   "source": [
    "![title](img/img6.jpg)\n",
    "<center>Fig 6. Water tower approximated as a SDOF system.</center>"
   ]
  },
  {
   "cell_type": "markdown",
   "metadata": {},
   "source": [
    "The analysis of SDOF systems, acts as our entry point into the study of dynamic behaviour. A solid grasp of the concepts as they relate to SDOF systems can carry us a very long way and give us the tools to understand and analyse quite complex structures. \n",
    "\n",
    "Let's develop our water tower example further. As we've stated above, the lateral oscillation of the water tower could be approximated by a SDOF system. We can abstract the system dynamics away from the water tower structure and represent the behaviour by a **generalised SDOF model**, also known as a **spring-mass-damper model**. We will use this abstraction to develop our mathematical models of the behaviour. But remember, we're still talking about the lateral oscillation of the water tower (or any other structure whose dynamic behaviour can be modelled as a SDOF system). "
   ]
  },
  {
   "cell_type": "markdown",
   "metadata": {},
   "source": [
    "### 1.2.1 The Spring-Mass-Damper model"
   ]
  },
  {
   "cell_type": "markdown",
   "metadata": {},
   "source": [
    "The spring-mass-damper model, Fig 7, is the generalised representation of a single degree of freedom system. As can be seen in Fig 7, the lateral stiffness provided by the tower structure is approximated by a simple spring with constant $k$. All structures exhibit some degree of inherent damping that will dissipate energy. Inherent structural damping will eventually bring a freely vibrating system to rest. This characteristic is modelled with an oil damper and characterised through the damping coefficient, $c$."
   ]
  },
  {
   "cell_type": "markdown",
   "metadata": {},
   "source": [
    "![title](img/img7.jpg)\n",
    "<center>Fig 7. Spring-mass-damper model.</center>"
   ]
  },
  {
   "cell_type": "markdown",
   "metadata": {},
   "source": [
    "We can visually link the lateral oscillation of the water tower lumped mass with the lateral oscillation of the spring-mass-damper system, Fig 8."
   ]
  },
  {
   "cell_type": "markdown",
   "metadata": {},
   "source": [
    "![title](img/img8.jpg)\n",
    "<center>Fig 8. Water tower oscillation simulated by oscillation of spring-mass-damper model.</center>"
   ]
  },
  {
   "cell_type": "markdown",
   "metadata": {},
   "source": [
    "### 1.2.2 Equation of motion"
   ]
  },
  {
   "cell_type": "markdown",
   "metadata": {},
   "source": [
    "The dynamic behaviour of the spring-mass-damper SDOF system is described by a differential equation. This equation can be constructed by first considering a free-body diagram of the system:"
   ]
  },
  {
   "cell_type": "markdown",
   "metadata": {},
   "source": [
    "![title](img/img9.jpg)\n",
    "<center>Fig 9. Free-body diagram of SDOF system.</center>"
   ]
  },
  {
   "cell_type": "markdown",
   "metadata": {},
   "source": [
    "The forces acting on the mass can be summarised as:\n",
    "\n",
    "- $k\\:U =$ stiffness force, proportional to displacement\n",
    "\n",
    "\n",
    "- $c\\:\\dot{U} = $ damping force, proportional to velocity\n",
    "\n",
    "\n",
    "- $m\\:\\ddot{U} = $ inertia force, proportional to acceleration\n",
    "\n",
    "Note that both $kU$ and $c\\dot{U}$ model structural properties, i.e. stiffness, a function of $EI$ and inherent damping. However, $m\\ddot{U}$ models the inertia behaviour of the mass, as discussed above. \n",
    "\n",
    "The external forces that induce a change in the velocity of the system are,\n",
    "\n",
    "\\begin{equation}\n",
    "p(t) - kU - c\\dot{U}\n",
    "\\end{equation}\n",
    "\n",
    "These can be equated to the fictitious inertia force, $m\\ddot{U}$ resisting a change in the velocity of the mass, \n",
    "\n",
    "\\begin{equation}\n",
    "p(t) - kU - c\\dot{U} = m\\ddot{U}\n",
    "\\end{equation}\n",
    "\n",
    "Rearranging, we have,\n",
    "\n",
    "\\begin{equation}\n",
    "m\\ddot{U} + c\\dot{U} + kU  = p(t)\n",
    "\\end{equation}\n",
    "\n",
    "or using alternative notation,\n",
    "\n",
    "\\begin{equation}\n",
    "\\underbrace{m\\frac{\\mathrm{d}^2U}{\\mathrm{d}t^2} + c\\frac{\\mathrm{d}U}{\\mathrm{d}t}}_\\text{dynamic component} + \\underbrace{kU}_\\text{static component} = p(t)\n",
    "\\end{equation}\n",
    "\n",
    "Note that the inertia and damping forces are only present when there is non-zero acceleration and velocity respectively. Thus they can be considered the dynamic components of the response. Without them, the equation reduces to the familiar static equation,\n",
    "\n",
    "\\begin{equation}\n",
    "kU = p(t)\n",
    "\\end{equation}"
   ]
  },
  {
   "cell_type": "markdown",
   "metadata": {},
   "source": [
    "The equation describing the full system response is a second order differential equation. The solution of this equation allows us to determine the state of the mass (position, velocity and acceleration) at any time provided we know the loading history, $p(t)$ and the system's **initial conditions** (position and velocity), $U(0)$ and $\\dot{U}(0)$.\n",
    "\n",
    "If we set the forcing term to zero, the equation becomes homogeneous and represents the free (non-forced) vibration of the system. In such a case, motion of the system occurs if the system is displaced and allowed to freely oscillate."
   ]
  },
  {
   "cell_type": "markdown",
   "metadata": {},
   "source": [
    "<mark><b>💡We will consider the free vibration response of a SDOF system first before moving on to analyse how the system responds to external loading.<b></mark>\n",
    "\n"
   ]
  },
  {
   "cell_type": "markdown",
   "metadata": {},
   "source": [
    "## 1.3 Undamped Free Vibration"
   ]
  },
  {
   "cell_type": "markdown",
   "metadata": {},
   "source": [
    "We will start by considering the case when there is no damping,\n",
    "\n",
    "\\begin{equation}\n",
    "c=0\n",
    "\\end{equation}\n",
    "\n",
    "Therefore the equation of motion simplifies to,\n",
    "\n",
    "\\begin{equation}\n",
    "m\\ddot{U} + kU = 0\n",
    "\\end{equation}"
   ]
  },
  {
   "cell_type": "markdown",
   "metadata": {},
   "source": [
    "To solve this equation we start by assuming a candidate solution,\n",
    "\n",
    "\\begin{equation}\n",
    "U = e^{\\lambda t}\n",
    "\\end{equation}\n",
    "\n",
    "where, $\\lambda$ is some arbitrary constant. We now differentiate our candidate solution and substitute it back into our original equation, \n",
    "\n",
    "\\begin{equation}\n",
    "\\ddot{U} = \\lambda^2 e^{\\lambda t}\n",
    "\\end{equation}\n",
    "\n",
    "Substituting into the original equation,\n",
    "\n",
    "\\begin{equation}\n",
    "m\\lambda^2 e^{\\lambda t} + k e^{\\lambda t} = 0\n",
    "\\end{equation}\n",
    "\n",
    "We now rearrange to isolate the *characteristic equation*, \n",
    "\n",
    "\\begin{equation}\n",
    "e^{\\lambda t}\\:\\underbrace{(m\\lambda^2  + k)}_\\text{characteristic equation}  = 0\n",
    "\\end{equation}\n",
    "\n",
    "Since we know, $e^{\\lambda t}\\neq 0$, \n",
    "\n",
    "\\begin{align}\n",
    "&m\\lambda^2 + k = 0\\\\\n",
    "&\\lambda =\\pm \\sqrt{\\frac{-k}{m}}\\\\\n",
    "&\\lambda =\\pm \\sqrt{-1}\\sqrt{\\frac{k}{m}}\\\\\n",
    "&\\lambda =\\pm i \\sqrt{\\frac{k}{m}}\n",
    "\\end{align}\n",
    "\n",
    "$\\lambda$ represents the two roots to the characteristic equation.\n",
    "\n",
    "**Root 1: $\\lambda_1$**\n",
    "\n",
    "\\begin{equation}\n",
    "\\lambda_1 = i\\:\\sqrt{\\frac{k}{m}} \n",
    "\\end{equation}\n",
    "\n",
    "This yields one solution for $U$, \n",
    "\n",
    "\\begin{equation}\n",
    "U_1 = e^{\\lambda_1 t} = \\exp\\left[i\\sqrt{\\frac{k}{m}}\\:t\\right]\n",
    "\\end{equation}\n",
    "\n",
    "**Root 2: $\\lambda_2$**\n",
    "\n",
    "The other solution is,\n",
    "\n",
    "\\begin{equation}\n",
    "U_2 = e^{\\lambda_2 t} = \\exp\\left[-i\\sqrt{\\frac{k}{m}}\\:t\\right]\n",
    "\\end{equation}\n",
    "\n",
    "Therefore the **general solution** is,\n",
    "\n",
    "\\begin{equation}\n",
    "U = C_1\\:\\exp\\left[i\\sqrt{\\frac{k}{m}}\\:t\\right] + C_2\\:  \\exp\\left[-i\\sqrt{\\frac{k}{m}}\\:t\\right]\n",
    "\\end{equation}\n",
    "\n",
    "Using Euler's formula, \n",
    "\n",
    "\\begin{align}\n",
    "e^{ix} &= \\cos(x) + i\\sin(x)\\\\\n",
    "e^{-ix} &= \\cos(x) - i\\sin(x)\n",
    "\\end{align}\n",
    "\n",
    "The general solution can be represented as,\n",
    "\n",
    "\\begin{equation}\n",
    "\\boxed{\n",
    "U = A\\cos\\left(\\sqrt{\\frac{k}{m}}t\\right) + B\\sin\\left(\\sqrt{\\frac{k}{m}}t \\right)\n",
    "}\n",
    "\\end{equation}\n",
    "\n",
    "The unknown constants $A$ and $B$ are determined using the initial conditions of the single degree of freedom system. "
   ]
  },
  {
   "cell_type": "markdown",
   "metadata": {},
   "source": [
    "### 1.3.1 Natural Frequency"
   ]
  },
  {
   "cell_type": "markdown",
   "metadata": {},
   "source": [
    "<mark><b>💡The natural frequency, $\\omega_n$ is the frequency at which a system oscillates if displaced from equilibrium and released.<b></mark>\n",
    "\n",
    "Natural frequency is an important property of any dynamic system. The associated period, $T$, is the time required for one unforced oscillation cycle to take place. The natural frequency, when measured in Hz is denoted as $f_n$. The angular natural frequency $\\omega_n$ is the natural frequency expressed in radians per second and is given by,\n",
    "\n",
    "\\begin{equation}\n",
    "\\boxed{\n",
    "\\omega_n = 2\\pi f_n = \\frac{2\\pi}{T}=\\sqrt{\\frac{k}{m}}\n",
    "    }\n",
    "\\end{equation}"
   ]
  },
  {
   "cell_type": "markdown",
   "metadata": {},
   "source": [
    "## 1.4 Damped Free Vibration"
   ]
  },
  {
   "cell_type": "markdown",
   "metadata": {},
   "source": [
    "Next we will determine the analytical solution to the governing differential equation when there is damping present. Recall that the differential equation describing the lateral oscillation of our water tower is,\n",
    "\n",
    "\\begin{equation}\n",
    "m\\ddot{U} + c\\dot{U} + kU  = p(t)\n",
    "\\end{equation}\n",
    "\n",
    "Following the same procedure as above, we can determine the following characteristic equation,\n",
    "\n",
    "\\begin{equation}\n",
    "m\\lambda^2 + c\\lambda + k = 0\n",
    "\\end{equation}\n",
    "\n",
    "This quadratic equation has roots,\n",
    "\n",
    "\\begin{equation}\n",
    "\\lambda = \\frac{-c \\:\\pm\\:\\sqrt{c^2-4mk} }{2m}\n",
    "\\end{equation}\n",
    "\n",
    "Following the same procedure as above we can state that the general solution to the differential equation is given by,\n",
    "\n",
    "\\begin{equation}\n",
    "u=A\\:e^{\\lambda_1t} + B\\:e^{\\lambda_2t}\n",
    "\\end{equation}\n",
    "\n",
    "What remains now is to work out what the roots ($\\lambda_1$ and $\\lambda_2$) actually are. This depends on whether the value under the square root sign is zero, greater than zero or less than zero. Each of these three options describes a different class of dynamic behaviour.  In other words, the class of dynamic behaviour is determined by the level of damping, $c$. "
   ]
  },
  {
   "cell_type": "markdown",
   "metadata": {},
   "source": [
    "### 1.4.1 Critically damped systems"
   ]
  },
  {
   "cell_type": "markdown",
   "metadata": {},
   "source": [
    "For a critically damped system,\n",
    "\n",
    "\\begin{equation}\n",
    "c^2-4mk=0\n",
    "\\end{equation}\n",
    "\n",
    "Rearranging we have,\n",
    "\n",
    "\\begin{equation}\n",
    "c=c_{cr}=\\sqrt{4mk}\n",
    "\\end{equation}\n",
    "\n",
    "Therefore there are two identical real roots to the characteristic equation,\n",
    "\n",
    "\\begin{equation}\n",
    "\\lambda_1 = \\lambda_2 = -\\frac{c_{cr}}{2m}\n",
    "\\end{equation}\n",
    "\n",
    "<mark><b>💡 Critical damping represents the smallest amount of damping for which no oscillation occurs in the free response. <b></mark>\n",
    "    \n",
    "We typically express the damping in a system as a percentage of critical damping or as a damping ratio, $\\xi$ where,\n",
    "    \n",
    "\\begin{equation}    \n",
    "\\xi = \\frac{c}{c_{cr}}\n",
    "\\end{equation}\n",
    "   \n",
    "**Typical damping ratios for civil engineering structures are of the order of 1-5%**. This is heavily  influenced by the materials and geometry of the structure. When the response of the structure to in-service loading is too noticeable or uncomfortable for occupants (e.g. London Millennium Bridge), additional dampers may be fitted to increase the damping ratio. \n",
    "    \n",
    "Critical damping represents the boundary between under-damped and over-damped systems discussed below. As you will have deduced from the preceding discussion on practical damping levels, under-damped systems are by far the most commonly observed dynamic systems in practice."
   ]
  },
  {
   "cell_type": "markdown",
   "metadata": {},
   "source": [
    "### 1.4.2 Over-damped systems"
   ]
  },
  {
   "cell_type": "markdown",
   "metadata": {},
   "source": [
    "In this case, \n",
    "\n",
    "\\begin{equation}\n",
    "c^2-4mk>0\n",
    "\\end{equation}\n",
    "\n",
    "Thus there are two real roots to the characteristic equation. Further solution of the differential equation yields a response that decays exponentially to zero without oscillation. Over damped systems are very uncommon, particularly within civil engineering structures. "
   ]
  },
  {
   "cell_type": "markdown",
   "metadata": {},
   "source": [
    "### 1.4.3 Under-damped systems"
   ]
  },
  {
   "cell_type": "markdown",
   "metadata": {},
   "source": [
    "For under-damped systems, \n",
    "\n",
    "\\begin{equation}\n",
    "c^2-4mk<0\n",
    "\\end{equation}\n",
    "\n",
    "As such, the roots of the characteristic equation are complex and with some rearranging, they can be expressed as, \n",
    "\n",
    "\\begin{equation}\n",
    "\\lambda_1 = \\frac{-c}{2m} +i\\sqrt{\\frac{k}{m}-\\left(\\frac{c}{2m}\\right)^2}\n",
    "\\end{equation}\n",
    "\n",
    "\\begin{equation}\n",
    "\\lambda_2 = \\frac{-c}{2m} -i\\sqrt{\\frac{k}{m}-\\left(\\frac{c}{2m}\\right)^2}\n",
    "\\end{equation}\n",
    "\n",
    "Remember, these roots appear in our initial assumed solution, $U(t) = e^{\\lambda t}$. We've also seen above that the general solution can be expressed as,\n",
    "\n",
    "\\begin{equation}\n",
    "U(t) = C_1 e^{\\lambda_1 t} + C_2 e^{\\lambda_2 t}\n",
    "\\end{equation}\n",
    "\n",
    "So, substituting our expressions for $\\lambda_1$ and $\\lambda_2$ into the general solution yields,\n",
    "\n",
    "\\begin{equation}\n",
    "U(t) = \\exp\\left(\\frac{-ct}{2m}\\right) \\left[ A \\exp\\left\\{ i\\:t \\sqrt{\\frac{k}{m} - \\left(\\frac{c}{2m}\\right)^2} \\right\\} + B\\exp\\left\\{-i\\:t \\sqrt{\\frac{k}{m} - \\left(\\frac{c}{2m}\\right)^2}\\right\\} \\right]\n",
    "\\end{equation}\n",
    "\n",
    "Again using Euler's formula (provided above) this reduces to,\n",
    "\n",
    "\\begin{equation}\n",
    "\\boxed{\n",
    "U(t) = e^{-\\xi \\omega_n t}\\left[C\\sin\\left(\\omega_d t \\right) + D\\cos\\left(\\omega_d t \\right) \\right]\n",
    "}\n",
    "\\end{equation}\n",
    "\n",
    "where, $\\omega_d$ is defined as the damped angular natural frequency and given by,\n",
    "\n",
    "\\begin{equation}\n",
    "\\boxed{\n",
    "\\omega_d = \\sqrt{\\frac{k}{m} - \\left(\\frac{c}{2m}\\right)^2}\n",
    "}\n",
    "\\end{equation}\n",
    "\n",
    "Alternatively, the damped free vibration response can be expressed as,\n",
    "\n",
    "\\begin{equation}\n",
    "\\boxed{\n",
    "U(t) = e^{-\\xi \\omega_n t} E\\sin(\\omega_d t + \\phi)\n",
    "}\n",
    "\\end{equation}\n",
    "\n",
    "in which $\\phi$ is simply a phase constant that accomodates the elimination of the cosine term. This equation simply describes a sinusoid with amplitude $E$ and angular oscillation frequency $\\omega_d$. In both expressions for damped free vibration response, the term $e^{-\\xi \\omega_n t}$ models the exponential decay of the response due to structural damping. \n",
    "\n",
    "Using this expression, we can model the damped free vibration response. For example, the image below shows the response of critically damped and under-damped system. Notice that the behaviour of the critically damped system [red] follows the exponential decay of the oscillating under-damped system (blue). The critically damped system does not oscillate but decays exponentially to zero."
   ]
  },
  {
   "cell_type": "code",
   "execution_count": 4,
   "metadata": {},
   "outputs": [
    {
     "data": {
      "image/png": "[encoded data removed]",
      "text/plain": [
       "<Figure size 432x288 with 1 Axes>"
      ]
     },
     "metadata": {},
     "output_type": "display_data"
    }
   ],
   "source": [
    "#Define some parameters\n",
    "m = 2000 #(kg) Mass\n",
    "fn = 0.4 #(Hz) Natural Frequency\n",
    "wn = 2*math.pi*fn #(rads/sec) Angular natural frequency\n",
    "k = m*wn**2 #(N/m) Stiffness\n",
    "\n",
    "#Define a time vector\n",
    "tmax = 100 #(sec) Max time\n",
    "delta_t = 0.01 #(sec) Timestep\n",
    "nPoints = tmax/delta_t #Number of equally spaced data points\n",
    "t = np.linspace(0,tmax, int(nPoints)) # Generate time vector\n",
    "\n",
    "# Response for 5% of critical damping (Under-damped system)\n",
    "xi_1 = 0.05 #Damping ratio\n",
    "wd_1 = wn*math.sqrt(1-xi_1**2) #(rads/sec) Damped angular natural frequency\n",
    "u_1 = math.e**(-xi_1*wn*t)*np.sin(wd_1*t +(math.pi/2)); \n",
    "\n",
    "# Response for 100% of critical damping (Critically damped system)\n",
    "xi_2 = 1\n",
    "wd_2 = wn*math.sqrt(1-xi_2**2)\n",
    "u_2 = math.e**(-xi_2*wn*t)*np.sin(wd_2*t +(math.pi/2));\n",
    "\n",
    "#Plotting \n",
    "fig = plt.figure() \n",
    "axes = fig.add_axes([0.1,0.1,2,2]) \n",
    "axes.plot(t,u_1,label='Under-damped response')\n",
    "axes.plot(t,u_2,label='Critically damped response')\n",
    "axes.set_xlim([0,40])\n",
    "axes.set_xlabel('Time (sec)')\n",
    "axes.set_ylabel('Displacement (m)')\n",
    "axes.set_title('Displacement-time history')\n",
    "axes.grid()\n",
    "axes.legend(loc='lower right')\n",
    "plt.show()"
   ]
  },
  {
   "cell_type": "markdown",
   "metadata": {},
   "source": [
    "The plot above shows the response of a critically damped and under-damped system. The critically damped system does not oscillate but decays exponentially to zero."
   ]
  },
  {
   "cell_type": "markdown",
   "metadata": {},
   "source": [
    "## 1.5 Damped Natural Frequency $\\omega_d$"
   ]
  },
  {
   "cell_type": "markdown",
   "metadata": {},
   "source": [
    "We have seen above that the critical damping coefficient is given by,\n",
    "\n",
    "\\begin{equation}\n",
    "c_{cr}=2\\sqrt{km}\n",
    "\\end{equation}\n",
    "\n",
    "Recall that we defined the angular natural frequency as,\n",
    "\n",
    "\\begin{equation}\n",
    "\\omega_n=\\sqrt{\\frac{k}{m}}\n",
    "\\end{equation}\n",
    "\n",
    "Combining these two equations, we can state an expression for the critical damping coefficient as,\n",
    "\n",
    "\\begin{equation}\n",
    "c_{cr}=2m\\omega_n\n",
    "\\end{equation}\n",
    "\n",
    "We also recall that we defined the damped angular natural frequency as,\n",
    "\n",
    "\\begin{equation}\n",
    "\\omega_d=\\sqrt{\\frac{k}{m}-\\left(\\frac{c}{2m}\\right)^2}\n",
    "\\end{equation}\n",
    "\n",
    "In order to simplify this expression extract and consider the term,\n",
    "\n",
    "\\begin{equation}\n",
    "\\frac{c}{2m} =\\frac{c}{2m} \\frac{c_{cr}}{c_{cr}} =\\frac{c}{2m}\\frac{2m\\omega_n}{c_{cr}}=\\frac{c}{c_{cr}}\\frac{2m\\omega_n}{2m} = \\xi\\omega_n\n",
    "\\end{equation}\n",
    "\n",
    "Therefore the damped angular natural frequency is, \n",
    "\n",
    "\\begin{equation}\n",
    "\\boxed{\n",
    "\\omega_d = \\omega_n\\sqrt{1-\\xi^2}\n",
    "}\n",
    "\\end{equation}\n",
    "\n",
    "Note if the damping ratio is small, $\\omega_d\\approx\\omega_n$. "
   ]
  },
  {
   "cell_type": "markdown",
   "metadata": {},
   "source": [
    "## 1.6 Logarithmic decrement, $\\delta$"
   ]
  },
  {
   "cell_type": "markdown",
   "metadata": {},
   "source": [
    "The logarithmic decrement can be used to estimate the level of damping based on an observed oscillation behaviour. The rate of decay is expressed as a natural log of 2 successive oscillation peaks with amplitudes $U_1$ and $U_2$. The logarithmic decrement can be expressed as,\n",
    "\n",
    "\\begin{equation}\n",
    "\\delta=\\ln\\left(\\frac{U_1}{U_2}\\right)\n",
    "\\end{equation}\n",
    "\n",
    "If we assume the two peaks $U_1$ and $U_2$ are separated by time $T_D$, they can be represented as,\n",
    "\n",
    "\\begin{equation}\n",
    "U_1=C\\:e^{-\\xi\\omega_nt_1}\n",
    "\\end{equation}\n",
    "\n",
    "\\begin{equation}\n",
    "U_2 = C\\:e^{-\\xi\\omega_n(t_1+T_D)}\n",
    "\\end{equation}\n",
    "\n",
    "Substituting these expressions into our expression for $\\delta$, \n",
    "\n",
    "\\begin{equation}\n",
    "\\delta=\\ln(e^{-\\xi\\omega_nt_1})-\\ln(e^{-\\xi\\omega_n(t_1+T_D)})\n",
    "\\end{equation}\n",
    "\n",
    "\\begin{equation}\n",
    "\\delta=\\xi\\omega_nT_D\n",
    "\\end{equation}\n",
    "\n",
    "Remember, $T_D$ is the time between two successive peaks and is therefore the period of the damped oscillation. Therefore it can be expressed as,\n",
    "\n",
    "\\begin{equation}\n",
    "T_D=\\frac{2\\pi}{\\omega_d} = \\frac{2\\pi}{\\omega_n\\sqrt{1-\\xi^2}}\n",
    "\\end{equation}\n",
    "\n",
    "The relationship between the observed logarithmic decrement $\\delta$ and the damping ratio $\\xi$ is therefore given by,\n",
    "\n",
    "\\begin{equation}\n",
    "\\boxed{\n",
    "\\delta=\\frac{2\\pi\\xi}{\\sqrt{1-\\xi^2}}\n",
    "}\n",
    "\\end{equation}\n",
    "\n",
    "However, when the damping ratio is small and $\\omega_n\\approx\\omega_d$, the relationship simplifies to,\n",
    "\n",
    "\\begin{equation}\n",
    "\\boxed{\n",
    "\\delta\\approx2\\pi\\xi\n",
    "}\n",
    "\\end{equation}"
   ]
  },
  {
   "cell_type": "markdown",
   "metadata": {},
   "source": [
    "<hr>"
   ]
  },
  {
   "cell_type": "markdown",
   "metadata": {},
   "source": [
    "# Exercise 1"
   ]
  },
  {
   "cell_type": "markdown",
   "metadata": {},
   "source": [
    "Consider the spring-mass-damper system below. It has the following parameters:\n",
    "<ul>\n",
    "    <li>Mass, $M = 1000 \\:kg$</li>    \n",
    "    <li>Spring stiffness,  $k = 80\\times 10^3$ N/m</li>    \n",
    "</ul>\n",
    "\n",
    "![title](img/img10.jpg)\n",
    "\n",
    "\n",
    "The mass is pulled down, released and allowed to oscillate freely with the resulting motion observed. The height between two successive peaks was found to be $u_1$ = 3.5 mm and $u_2$ = 2.9 mm. Based on this information, determine the following:\n",
    "<ol>\n",
    "    <li>The natural frequency of the undamped system (in rads/sec & Hz)</li>    \n",
    "    <li>The oscillation period of the undamped system</li>    \n",
    "<li>The logarithmic decrement</li>    \n",
    "    <li>The damping ratio</li>    \n",
    "    <li>The damping coefficient</li>    \n",
    "    <li>The damped natural frequency (in rads/sec)</li>    \n",
    "</ol>"
   ]
  },
  {
   "cell_type": "markdown",
   "metadata": {},
   "source": [
    "# Exercise 2"
   ]
  },
  {
   "cell_type": "markdown",
   "metadata": {},
   "source": [
    "Consider the structure shown below with mass **m = 5000 kg**. The columns may be considered weightless but they do provide some stiffness that resists lateral motion. Based on an experimental impact test, the inherent structural damping has been estimated to be **4%** (based on obervation of the logarithmic decrement). An oil damper is used on the schematic below to indicate the structure's damping. A load test has shown that a lateral force of **2000 N** induces a lateral displacement of **10 mm**.\n",
    "\n",
    "![title](img/img11.jpg)\n",
    "\n",
    "With this information, determine the following:\n",
    "<ol>\n",
    "    <li>The undamped natural frequency</li>\n",
    "    <li>The damping coefficient</li>\n",
    "    <li>The logarithmic decrement</li>\n",
    "    <li>* The number of complete cycles and time required for the peak oscillation amplitude to reduce to 3mm</li>\n",
    "    <li>Confirm your answer to question 4 by plotting the displacement-time history</li>\n",
    "<ol>    \n",
    "    "
   ]
  }
 ],
 "metadata": {
  "hide_input": false,
  "kernelspec": {
   "display_name": "Python 3",
   "language": "python",
   "name": "python3"
  },
  "language_info": {
   "codemirror_mode": {
    "name": "ipython",
    "version": 3
   },
   "file_extension": ".py",
   "mimetype": "text/x-python",
   "name": "python",
   "nbconvert_exporter": "python",
   "pygments_lexer": "ipython3",
   "version": "3.6.4"
  }
 },
 "nbformat": 4,
 "nbformat_minor": 2
}
