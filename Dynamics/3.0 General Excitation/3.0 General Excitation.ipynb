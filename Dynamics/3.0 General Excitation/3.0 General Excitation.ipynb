{
 "cells": [
  {
   "cell_type": "code",
   "execution_count": 1,
   "metadata": {
    "deletable": false,
    "editable": false,
    "hide_input": true
   },
   "outputs": [
    {
     "name": "stdout",
     "output_type": "stream",
     "text": [
      "- Dependencies imported 👍\n",
      "- Remember to select 'Kernel-> Restart & Run All' on first load to show embedded Youtube videos 🎬\n",
      "- Author: Dr SPCarroll, Sept 2020, Rev 0\n"
     ]
    }
   ],
   "source": [
    "#DEPENDENCIES & INITIALISATIONS\n",
    "from IPython.display import HTML #For embedding videos\n",
    "import math #Basic math functionality\n",
    "import numpy as np #Numpy for working with arrays\n",
    "import matplotlib.pyplot as plt #Plotting functionality \n",
    "#HTML('<center><iframe width=\"560\" height=\"315\" src=\"#\" frameborder=\"0\" allowfullscreen></iframe></center>')\n",
    "print(\"- Dependencies imported 👍\")\n",
    "print(\"- Remember to select 'Kernel-> Restart & Run All' on first load to show embedded Youtube videos 🎬\")\n",
    "print(\"- Author: Dr SPCarroll, Sept 2020, Rev 0\")"
   ]
  },
  {
   "cell_type": "markdown",
   "metadata": {},
   "source": [
    "![title](img/banner.jpg)"
   ]
  },
  {
   "cell_type": "markdown",
   "metadata": {},
   "source": [
    "# 3.0 General Excitation\n",
    "Reference: Dynamics of Structures, Clough and Penzien"
   ]
  },
  {
   "cell_type": "markdown",
   "metadata": {},
   "source": [
    "Now that we have an understanding of the fundamentals of dynamic behaviour for SDOF systems, we'll take what we've learned and generalise it for use with other types of dynamic loading. So far we have explored harmonic loading (sine or cosine forcing functions). In reality we may need to analyse much more complex dynamic loading. However, as you will see in this section we can make use of what we've already learned to achieve this.\n",
    "\n",
    "There are a number of analysis procedures that can be employed to analyse complex non-harmonic loading. We don't have time to explore those here, but they generally require the use of superposition (see Duhamel Integral method and Fourier decomposition). As such, they are not applicable in cases where non-linear structural behaviour is expected. \n",
    "\n",
    "A good example of non-linear structural behaviour is the behaviour of structures designed to survive an earthquake. Structures designed to resist collapse in the event of an earthquake are required to exhibit significant nonlinear plastic behaviour. As such, dynamic analysis methods that assume linear structural behaviour are not appropriate.\n",
    "\n",
    "Superposition methods are also not appropriate in cases where feedback exists between the applied load and structural response. One classic example of this is human-structure interaction (HSI). HSI, although rare, can be seen for example on bridges (mainly footbridges) and describes the phenomenon whereby the gait of the occupying crowd is altered in response to bridge motion. If this gait alteration leads to an increase in force magnitude or shift in frequency of force exciting the bridge, a positive feedback loop may be established. The London Millennium footbridge and Clifton Suspension Bridge in Bristol (below) are two such bridges that have exhibited this behaviour."
   ]
  },
  {
   "cell_type": "markdown",
   "metadata": {},
   "source": [
    "![title](img/img1.jpg)\n",
    "<center>Fig 1. (a) Clifton Suspension Bridge, Bristol. (b) Clifton Suspension Bridge lateral dynamic response [1]</center>"
   ]
  },
  {
   "cell_type": "markdown",
   "metadata": {},
   "source": [
    "The image above (right) shows the recorded lateral vibration response on the Clifton Suspension Bridge during an event when the bridge was densely loaded with pedestrians. The large response increase was observed, when the crowd started to walk off the bridge. Clearly there was a form of feedback established between the crowd and bridge response that led to this uncharacteristic non-linear behaviour. Further details can be found in the referenced paper which is well worth reading (available on the ELE page). \n",
    "\n",
    "In this section of the module, we will introduce a method of analysis that does not require linear structural behaviour and that can accommodate feedback between loading and response. This method is general enough to be applied to any form of structural loading. Furthermore it is well suited to implementation within an algorithm, i.e. you can quite easily implement an algorithm to process loading data and evaluate structural response. These are in fact a family of solution methodologies known as step-by-step methods. \n",
    "\n",
    "Step-by-step methods involve breaking the applied loading into a series of short duration segments and considering the response of the structure over each segment or time-step. The position and velocity of the structure at the end of one time-step become the initial position  and velocity of the structure at the beginning of the next time-step. In this way the behaviour of the structure is determined step-by-step as the result of a succession of short duration linear analyses. "
   ]
  },
  {
   "cell_type": "markdown",
   "metadata": {},
   "source": [
    "## 3.1 The Piecewise Exact Method"
   ]
  },
  {
   "cell_type": "markdown",
   "metadata": {},
   "source": [
    "The step-by-step method that will be developed further here is known as the piecewise exact method. This involves approximating the applied loading as a series of straight line segments over the duration of a time-step.\n",
    "\n",
    "The exact analytical solution for the position and velocity of the mass at the end of the time-step is then determined by solving the equation of motion over the duration of the step. Therefore over the duration of a time-step, we are actually performing a linear dynamic analysis. The flexibility in this method is achieved by virtue of the fact that we can take any loading and simply divide it into a series of linear segments. Furthermore, if necessary we could also alter the dynamic characteristics of the dynamic system between subsequent time-steps. This approach offers us maximum flexibility and is a tool well worth knowing how to use.\n",
    "\n",
    "It's important to appreciate that potential error is introduced if the force is not sampled at sufficient frequency. The error is easily reduced by reducing the time-step between load samples."
   ]
  },
  {
   "cell_type": "markdown",
   "metadata": {},
   "source": [
    "### 3.1.1 Solution to the equation of motion"
   ]
  },
  {
   "cell_type": "markdown",
   "metadata": {},
   "source": [
    "Consider a force, $p(t)$ and its piecewise linear representation between $t_n$ and $t_{n+1}$,"
   ]
  },
  {
   "cell_type": "markdown",
   "metadata": {},
   "source": [
    "![title](img/img2.jpg)\n",
    "<center>Fig 2. (a) Actual force, (b) Piecewise linear approximation of the force, (c) parameterised linear approximation of actual loading over one time-step.</center>"
   ]
  },
  {
   "cell_type": "markdown",
   "metadata": {},
   "source": [
    "If the duration $t_{n+1} - t_n$ is sufficiently small, the error introduced by the linear approximation is negligibly small. We can represent the force as a function of time over the interval,\n",
    "\n",
    "\\begin{equation}\n",
    "p(\\tau) = p_n + \\frac{p_{n+1}-p_n}{h}\\tau\n",
    "\\end{equation}\n",
    "\n",
    "The equation of motion that describes the behaviour of the system is therefore,\n",
    "\n",
    "\\begin{equation}\n",
    "m\\ddot{u} + c\\dot{u} + ku = p_n + \\frac{p_{n+1}-p_n}{h}\\tau\n",
    "\\end{equation}\n",
    "\n",
    "An analytical solution to this equation of motion can be determined and consists of three parts which will be combined through superposition (remember linear analysis assumed over the duration of a time-step),\n",
    "\n",
    "- the free vibration component with initial position and velocity $U_n$ and $\\dot{U}_n$ respectively.\n",
    "\n",
    "- the component due to a constant force of magnitude $p_n$\n",
    "\n",
    "- a component due to a linearly varying force,\n",
    "\\begin{equation}\n",
    "\\frac{p_{n+1}-p_n}{h}\\tau\n",
    "\\end{equation}\n",
    "\n",
    "The solution to the differential equation can be obtained for each of these three cases in turn using the same procedures demonstrated previously (solving to find homogeneous and complimentary solutions to the various equations of motion). For brevity we will simply state them here rather than deriving each. The free vibration response is given by,\n",
    "\n",
    "\\begin{equation}\n",
    "U_1 = e^{-\\xi\\omega_n\\tau}\\left[U_0\\cos(\\omega_d\\tau) + \\frac{\\dot{U}_0 + \\xi\\omega_nU_0}{\\omega_d}\\sin(\\omega_d\\tau) \\right]\n",
    "\\end{equation}\n",
    "\n",
    "The constant force vibration response is given by,\n",
    "\n",
    "\\begin{equation}\n",
    "U_2 = \\frac{p_n}{k}\\left[1-e^{-\\xi\\omega_n\\tau} \\left(\\cos(\\omega_d\\tau) + \\frac{\\xi\\omega_n}{\\omega_d} \\sin(\\omega_d\\tau) \\right) \\right]\n",
    "\\end{equation}\n",
    "\n",
    "The linearly varying forced response is given by,\n",
    "\\begin{equation}\n",
    "u_3 = \\frac{p_{n+1}-p_n}{k}\\left[\\tau - \\frac{2\\xi}{\\omega_n} + e^{-\\xi\\omega_n\\tau} \\left(\\frac{2\\xi^2-1}{\\omega_d}\\sin(\\omega_d\\tau) + \\frac{2\\xi}{\\omega_n} \\cos(\\omega_d\\tau) \\right) \\right]\n",
    "\\end{equation}\n",
    "\n",
    "The system displacement is obtained by adding each of these three components. We would obtain the corresponding velocity by simply differentiating the resulting expression. \n",
    "\n",
    "If we do this and replace $\\tau$ with $h$ we would obtain the expressions for position and velocity at the end of a time step as a function of the position and velocity of the system at the beginning of the time-step, \n",
    "\n",
    "\\begin{equation}\n",
    "U_{n+1} = A\\:U_n + B\\:\\dot{U}_{n} +C\\:p_n + D\\:p_{n+1}\n",
    "\\end{equation}\n",
    "\n",
    "\\begin{equation}\n",
    "\\dot{U}_{n+1} = A_1\\:U_n + B_1\\:\\dot{U}_n + C_1\\:p_n + D_1\\:p_{n+1}\n",
    "\\end{equation}\n",
    "\n",
    "where the constant A through D1 are given by,"
   ]
  },
  {
   "cell_type": "markdown",
   "metadata": {},
   "source": [
    "\\begin{equation}\n",
    "A = e^{-\\xi\\omega_nh}\\left[\\frac{\\xi}{\\sqrt{1-\\xi^2}}\\sin(\\omega_dh) + \\cos(\\omega_dh) \\right]\n",
    "\\end{equation}"
   ]
  },
  {
   "cell_type": "markdown",
   "metadata": {},
   "source": [
    "\\begin{equation}\n",
    "B=e^{-\\xi\\omega_nh}\\left[\\frac{1}{\\omega_d}\\sin(\\omega_dh) \\right]\n",
    "\\end{equation}"
   ]
  },
  {
   "cell_type": "markdown",
   "metadata": {},
   "source": [
    "\\begin{equation}\n",
    "C=\\frac{1}{k}\\left[\\frac{2\\xi}{\\omega_nh} + e^{-\\xi\\omega_nh}\\left(\\left(\\frac{1-2\\xi^2}{\\omega_dh} - \\frac{\\xi}{\\sqrt{1-\\xi^2}} \\right)\\sin(\\omega_dh)-\\left(1+\\frac{2\\xi}{\\omega_n h} \\right)\\cos(\\omega_dh)\\right) \\right]\n",
    "\\end{equation}"
   ]
  },
  {
   "cell_type": "markdown",
   "metadata": {},
   "source": [
    "\\begin{equation}\n",
    "D=\\frac{1}{k}\\left[1-\\frac{2\\xi}{\\omega_nh}+e^{-\\xi\\omega_nh}\\left(\\frac{2\\xi^2-1}{\\omega_dh}\\sin(\\omega_dh) + \\frac{2\\xi}{\\omega_nh}\\cos(\\omega_dh) \\right) \\right]\n",
    "\\end{equation}"
   ]
  },
  {
   "cell_type": "markdown",
   "metadata": {},
   "source": [
    "\\begin{equation}\n",
    "A_1=-e^{-\\xi\\omega_nh}\\left[\\frac{\\omega_n}{\\sqrt{1-\\xi^2}}\\sin(\\omega_dh) \\right]\n",
    "\\end{equation}"
   ]
  },
  {
   "cell_type": "markdown",
   "metadata": {},
   "source": [
    "\\begin{equation}\n",
    "B_1=e^{-\\xi\\omega_nh}\\left[\\cos(\\omega_dh)-\\frac{\\xi}{\\sqrt{1-\\xi^2}}\\sin(\\omega_dh) \\right]\n",
    "\\end{equation}"
   ]
  },
  {
   "cell_type": "markdown",
   "metadata": {},
   "source": [
    "\\begin{equation}\n",
    "C_1=\\frac{1}{k}\\left[-\\frac{1}{h} + e^{-\\xi\\omega_nh}\\left(\\left(\\frac{\\omega_n}{\\sqrt{1-\\xi^2}} + \\frac{\\xi}{h\\sqrt{1-\\xi^2}} \\right)\\sin(\\omega_dh) +\\frac{1}{h}\\cos(\\omega_d h) \\right) \\right]\n",
    "\\end{equation}"
   ]
  },
  {
   "cell_type": "markdown",
   "metadata": {},
   "source": [
    "\\begin{equation}\n",
    "D_1=\\frac{1}{k}\\left[\\frac{1}{h} - \\frac{e^{-\\xi\\omega_nh}}{h} \\left(\\frac{\\xi}{\\sqrt{1-\\xi^2}}\\sin(\\omega_dh)+\\cos(\\omega_dh) \\right)\\right]\n",
    "\\end{equation}"
   ]
  },
  {
   "cell_type": "markdown",
   "metadata": {},
   "source": [
    "<mark>⚠️ To avoid making typos implementing these equations - you can copy and paste them from the .py file on the ELE page.</mark>\n",
    "\n",
    "These expressions appear exceptionally complex. However, it's important to remember that fundamentally all we have done is implement the same procedures that you are familiar with from the analysis of harmonic loading. It's also worth remembering that the purpose of our work here is to develop a set of equations that is suitable for implementation in a computer algorithm. As such it is not expected that you would manually process these equations to determine the step-by-step response of the structure.  "
   ]
  },
  {
   "cell_type": "markdown",
   "metadata": {},
   "source": [
    "### 3.1.2 Force segmentation"
   ]
  },
  {
   "cell_type": "markdown",
   "metadata": {},
   "source": [
    "Our discussion so far has assumed that the force segmentation and simulation time-step are the same, i.e. that if we have a simulation time-step of $0.01$ seconds, that this is also the rate at which we sample the actual applied force. **For all intents and purposes this is the practical approach and what you would do in practice**. \n",
    "\n",
    "However, you should be aware that it is possible to sample the applied force at a much lower frequency than the simulation time-step. Care should be taken if this is to be done, as you will see below. \n",
    "\n",
    "Consider for example, plot (a) below. The blue line indicates what we'll call the actual, experimental or observed force while the orange line is our approximation of the applied force. Both contain the same number of data points but the orange line is approximating the blue force with 4 linear segments, essentially sampling the blue force at a frequency of 4Hz with linear interpolation used to derive the force values between these sampling points. "
   ]
  },
  {
   "cell_type": "markdown",
   "metadata": {},
   "source": [
    "![title](img/img3.jpg)\n",
    "<center>Fig 3. Experimental force (blue) sampled at $4Hz$, $8Hz$, $20Hz$ and $40Hz$. Note that the simulation time-step is consistent throughout at $200Hz$.</center>"
   ]
  },
  {
   "cell_type": "markdown",
   "metadata": {},
   "source": [
    "The primary source of error with this step-by-step method is the difference between the actual force experienced by the structure (blue) and the piecewise representation of that force (orange) used in the simulation. \n",
    "\n",
    "Plot (b) shows a linear approximation generated by doubling the rate at which we sample the actual (blue) force. This would produce a more accurate simulation. Plot (c) and (d) would provide even better representations of the applied force and therefore more accurate simulations. Note that all plots have a time-step of $0.005s$ $(200Hz)$. \n",
    "\n",
    "**Remember, all we're considering in this discussion is the error introduced by the piecewise linear representation of the applied load.**\n",
    "\n",
    "When the equations above describing the piecewise linear method are implemented, we can quite easily visualise the influence of different levels of force segmentation. The plots below show the different dynamic behaviour that results from three different levels of force segmentation. "
   ]
  },
  {
   "cell_type": "markdown",
   "metadata": {},
   "source": [
    "![title](img/img4.jpg)\n",
    "<center>Fig 4. Dynamic response of a SDOF system to forces at different levels of approximation.</center>"
   ]
  },
  {
   "cell_type": "markdown",
   "metadata": {},
   "source": [
    "We can see, as expected that the more frequently we sample the force signal, in other words the more linear segments we use to represent or 'reconstruct' it, the more accurate is the resulting dynamic behaviour. However, we also see that doubling the number of samples (linear segments) from $20$ to $40$ produces a negligible increase in response accuracy. At a particular level of segmentation we reach a point of diminishing returns.\n",
    "\n",
    "It will be for you, the engineer to determine, based on a sensitivity analysis what level of segmentation you need to employ. This can be done as demonstrated above by seeking convergence in the system's dynamic behaviour. Of course, with the negligible cost of computation, you may also consider not segmenting your force signal at all beyond its source sampling rate. In this example, that would mean generating $1/0.005 = 200$ samples or segments per cycle. Of course we have in fact done this, to generate the 'benchmark' response."
   ]
  },
  {
   "cell_type": "markdown",
   "metadata": {},
   "source": [
    "### 3.1.3 Time discretisation"
   ]
  },
  {
   "cell_type": "markdown",
   "metadata": {},
   "source": [
    "In the previous section we explored the impact of force signal segmentation and showed that care must be taken not to over simplify the force signal. In fact a safe approach is to utilise all available force data in your simulation.\n",
    "\n",
    "Care must also be taken when selected a suitable time-step, also known as time discretisation (in the previous example, our time-step was $\\delta_t = 0.005\\:s$). If too large a time-step is selected, our assumption of a linear change in force magnitude will be become less accurate. Again we can demonstrate the effect of varying the time-step by carrying out a sensitivity analysis similar to that above. The figure below shows the variation in dynamic behaviour as the simulation time-step is progressively reduced. We can see that at a certain point the behaviour converges and no further improvement is gained by continuing to reduce the time-step. Thus in the case below, a sensible time-step to adopt would be $0.01$ seconds as little to no change is observed for a time-step of $0.005$ seconds despite doubling the number of simulation steps calculated. For large scale numerical analysis, an overly discretised parameter space can lead to long compute times and become expensive. "
   ]
  },
  {
   "cell_type": "markdown",
   "metadata": {},
   "source": [
    "![title](img/img5.jpg)\n",
    "<center>Fig 5. Dynamic response of a SDOF system with varying simulation time-step length.</center>"
   ]
  },
  {
   "cell_type": "markdown",
   "metadata": {},
   "source": [
    "In general, with the application of any numerical solution technique, it is critical that the parameter space is explored to confirm the a suitable simulation time-step (time discretisation) and force discretisation is selected. For analyses involving spacial parameters (e.g. finite element analysis), space discretisation must also be considered. "
   ]
  },
  {
   "cell_type": "markdown",
   "metadata": {},
   "source": [
    "## 3.2 Pseudocode"
   ]
  },
  {
   "cell_type": "markdown",
   "metadata": {},
   "source": [
    "Below is a pseudocode you can use to build your own algorithm to calculate the response of a dynamic system. Despite the apparent complexity of the equations discussed above, the algorithm to implement them can be refreshingly simple. Once understood and implemented, this technique gives you a hugely versatile tool for calculating the structural response of a dynamic system."
   ]
  },
  {
   "cell_type": "markdown",
   "metadata": {},
   "source": [
    "### 3.2.1 Time and force vector"
   ]
  },
  {
   "cell_type": "markdown",
   "metadata": {},
   "source": [
    "First define a time vector, starting at $t=0$, and increasing to some $t_{max}$ value in increments equal to your time-step, $\\delta_t$. Use Numpy for this. \n",
    "\n",
    "Then generate a force vector, start with a simple sine function evaluated at each time-step. At this point you should have two equal length arrays, one with time values, (tVector) and one with the corresponding force value (fVector).  "
   ]
  },
  {
   "cell_type": "markdown",
   "metadata": {},
   "source": [
    "### 3.2.2 Function to calculate response"
   ]
  },
  {
   "cell_type": "markdown",
   "metadata": {},
   "source": [
    "Define a function that takes in tVector and fvector as arguments and implements the piecewise exact method. Within this function you will need to write a for-loop that that cycles through each time value and:\n",
    "\n",
    "- Extracts the force values at the beginning and end of the current time-step\n",
    "\n",
    "- Calculates the position and velocity at the end of the current time-step\n",
    "\n",
    "- Updates the initial conditions for use on the next iteration of the  for-loop\n",
    "\n",
    "At the end of the function, return the array of calculated positions at the end of the function. \n",
    "\n",
    "Finally, call the function and pass it a vector of time and force data. The process is summarised as follows below.\n",
    "\n",
    "<mark>Note that the cell below does not contain valid code and so returns an error when executed. You should just use this as a guide to writing your own algorithm.</mark>"
   ]
  },
  {
   "cell_type": "code",
   "execution_count": null,
   "metadata": {},
   "outputs": [],
   "source": [
    "#Function to calculate displacement from a time and force vector\n",
    "def calculateResponse(tVector, fVector):\n",
    "    \"\"\"\n",
    "    Function to calculate dynamic response\n",
    "    - tVector is an array holding the time vector [0:timestep:tmax]\n",
    "    - fVector is an array holding the force at each timestep\n",
    "    \"\"\"\n",
    "    # Compute constants A1-D1 (captures dynamic characteristics of the system)\n",
    "\n",
    "    # Set initial conditions\n",
    "\n",
    "    # Main simulation loop\n",
    "    for n, timestep in enumerate(tVector):        \n",
    "        # Extract the force values at the beginning and end of this timestep\n",
    "\n",
    "        # Calculate the position and velocity at the end of this timestep\n",
    "\n",
    "        # Update the initial conditions (for use on next iteration of for loop)\n",
    "        \n",
    "    return position # the position vector constructed with each iteration of the for loop\n",
    "\n",
    "# Don't forget to actually call the function (defined above) with some values generated values for t and f\n",
    "systemResponse = calculateResponse(t, f)"
   ]
  }
 ],
 "metadata": {
  "hide_input": false,
  "kernelspec": {
   "display_name": "Python 3",
   "language": "python",
   "name": "python3"
  },
  "language_info": {
   "codemirror_mode": {
    "name": "ipython",
    "version": 3
   },
   "file_extension": ".py",
   "mimetype": "text/x-python",
   "name": "python",
   "nbconvert_exporter": "python",
   "pygments_lexer": "ipython3",
   "version": "3.6.4"
  }
 },
 "nbformat": 4,
 "nbformat_minor": 2
}
