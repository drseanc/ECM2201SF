{
 "cells": [
  {
   "cell_type": "code",
   "execution_count": 2,
   "metadata": {
    "deletable": false,
    "editable": false,
    "hide_input": true
   },
   "outputs": [
    {
     "name": "stdout",
     "output_type": "stream",
     "text": [
      "- Dependencies imported 👍\n",
      "- Remember to select 'Kernel-> Restart & Run All' on first load to show embedded Youtube videos 🎬\n",
      "- Author: Dr SPCarroll, Sept 2020, Rev 1\n"
     ]
    }
   ],
   "source": [
    "#DEPENDENCIES & INITIALISATIONS\n",
    "from IPython.display import HTML #For embedding videos\n",
    "import math #Basic math functionality\n",
    "import numpy as np #Numpy for working with arrays\n",
    "import matplotlib.pyplot as plt #Plotting functionality \n",
    "#HTML('<center><iframe width=\"560\" height=\"315\" src=\"#\" frameborder=\"0\" allowfullscreen></iframe></center>')\n",
    "print(\"- Dependencies imported 👍\")\n",
    "print(\"- Remember to select 'Kernel-> Restart & Run All' on first load to show embedded Youtube videos 🎬\")\n",
    "print(\"- Author: Dr SPCarroll, Sept 2020, Rev 1\")"
   ]
  },
  {
   "cell_type": "markdown",
   "metadata": {},
   "source": [
    "![title](img/5./banner.jpg)"
   ]
  },
  {
   "cell_type": "markdown",
   "metadata": {},
   "source": [
    "# 5. Columns with eccentric axial load"
   ]
  },
  {
   "cell_type": "markdown",
   "metadata": {},
   "source": [
    "## 1.0 Introduction"
   ]
  },
  {
   "cell_type": "markdown",
   "metadata": {},
   "source": [
    "So far we have assumed that all compression forces on a column are axial forces that have their line of action along the column's longitudinal axis. As a result of this assumption the column will potentially experience the three states of equilibrium previously discussed,\n",
    "- Stable equilibrium\n",
    "- Neutral equilibrium\n",
    "- Unstable equilibrium\n",
    "\n",
    "However, in reality a column is not likely to experience such ideal conditions. Compression forces are often not axial forces but forces applied at some eccentricity from the column's longitudinal axis. This results in quite different failure behaviour that we will investigate here. "
   ]
  },
  {
   "cell_type": "markdown",
   "metadata": {},
   "source": [
    "## 2.0 Lateral Deflection"
   ]
  },
  {
   "cell_type": "markdown",
   "metadata": {},
   "source": [
    "Consider the column below compressed from both ends. The compressing forces are applied at an eccentricity, e, from the column's longitudinal axis. "
   ]
  },
  {
   "cell_type": "markdown",
   "metadata": {},
   "source": [
    "![title](img/5./image1.jpg)"
   ]
  },
  {
   "cell_type": "markdown",
   "metadata": {},
   "source": [
    "The first thing we note is that the load $P$ applied an an eccentricity $e$, is the same as simultaneously applying an axial load $P$ and a moment $M_o$,\n",
    "\n",
    "\\begin{equation}\n",
    "M_o = P\\times e\n",
    "\\end{equation}\n",
    "\n",
    "We can start by following the same procedure as before. We need to determine the differential equation of the deflection curve. We do this by evaluating the internal bending moment, $M_x$ at some distance $x$ along the height of the deflected column as shown in the right hand diagram above.\n",
    "\n",
    "\\begin{equation}\n",
    "M_x = M_o + P(-v)\n",
    "\\end{equation}\n",
    "\n",
    "\\begin{equation}\n",
    "M_x = M_o-Pv\n",
    "\\end{equation}\n",
    "\n",
    "Now substituting this expression for $M_x$ into the differential equation of the deflection curve yields, \n",
    "\n",
    "\\begin{equation}\n",
    "EI\\frac{\\mathrm{d}^2v}{\\mathrm{d}x^2} = M_o-Pv = Pe-Pv\n",
    "\\end{equation}\n",
    "\n",
    "Now let,\n",
    "\n",
    "\\begin{equation}\n",
    "k^2 = \\frac{P}{EI}\n",
    "\\end{equation}\n",
    "\n",
    "and introduce the following alternative differential notation,\n",
    "\n",
    "\\begin{equation}\n",
    "\\frac{\\mathrm{d}^2v}{\\mathrm{d}x^2} =  \\ddot{v}\n",
    "\\end{equation}\n",
    "\n",
    "These substitutions yield,\n",
    "\n",
    "\\begin{equation}\n",
    "\\ddot{v} + k^2v = k^2e\n",
    "\\end{equation}\n",
    "\n",
    "For the solution to this equation, see the solution to the axially loaded fixed-free column. The general solution is given by,\n",
    "\n",
    "\\begin{equation}\n",
    "v=C_1 \\sin(kx) +  C_2 \\cos(kx) + e\n",
    "\\end{equation}\n",
    "\n",
    "We can apply the following boundary conditions,\n",
    "\n",
    "\\begin{align}\n",
    "&v(x=0) = 0\\\\\n",
    "& v(x=L)=0\n",
    "\\end{align}\n",
    "\n",
    "Using these boundary conditions we find that,\n",
    "\n",
    "\\begin{equation}\n",
    "C_2 = -e\n",
    "\\end{equation}\n",
    "\n",
    "and\n",
    "\n",
    "\\begin{equation}\n",
    "C_1 = \\frac{-e(1-\\cos(kL))}{\\sin(kL)}\n",
    "\\end{equation}\n",
    "\n",
    "Which simplifies to,\n",
    "\n",
    "\\begin{equation}\n",
    "C_1 = -e\\tan \\left(\\frac{kL}{2}\\right)\n",
    "\\end{equation}\n",
    "\n",
    "The solution to the differential equation of the deflection curve is therefore,\n",
    "\n",
    "\\begin{equation}\n",
    "v=-e\\left(\\tan\\left(\\frac{kL}{2}\\right)\\sin(kx) + \\cos(kx)-1\\right)\n",
    "\\end{equation}\n",
    "\n",
    "We note that for a given value of $e$ and $P$, the deflection is always defined. In the previous axially loaded column analyses we considered, we could only determine a buckling mode shape, but the maximum deflection, when $P=P_{cr}$, was undefined. This corresponded to a state of neutral equilibrium. "
   ]
  },
  {
   "cell_type": "markdown",
   "metadata": {},
   "source": [
    "<mark><b>💡From this we conclude that a column with eccentric compression forces has no neutral equilibrium state and therefore does not exhibit sudden buckling behaviour.<b></mark>"
   ]
  },
  {
   "cell_type": "markdown",
   "metadata": {},
   "source": [
    "### 2.1 Maximum Deflection"
   ]
  },
  {
   "cell_type": "markdown",
   "metadata": {},
   "source": [
    "For the pinned-pinned column considered in this case, the maximum lateral deflection, $\\delta$ occurs at the mid-height point, $x=L/2$. Thus,\n",
    "\n",
    "\\begin{equation}\n",
    "\\delta = -v\\left( \\frac{L}{2}\\right)\n",
    "\\end{equation}\n",
    "\n",
    "\\begin{equation}\n",
    "\\delta=e\\left( \\tan\\left(\\frac{kL}{2}\\right)\\sin\\left(\\frac{kL}{2}\\right) + \\cos\\left(\\frac{kL}{2}\\right)-1\\right)\n",
    "\\end{equation}\n",
    "\n",
    "After simplifying we get,\n",
    "\n",
    "\\begin{equation}\n",
    "\\delta = e\\left(\\sec\\left(\\frac{kL}{2}\\right)-1\\right)\n",
    "\\end{equation}\n",
    "\n",
    "Now, remembering that, \n",
    "\n",
    "\\begin{equation}\n",
    "k=\\sqrt{\\frac{P}{EI}}\n",
    "\\end{equation}\n",
    "\n",
    "and for a pinned-pinned column, we know that, \n",
    "\n",
    "\\begin{equation}\n",
    "P_{cr} = \\frac{\\pi^2EI}{L^2}\n",
    "\\end{equation}\n",
    "\n",
    "we can rewrite k,\n",
    "\n",
    "\\begin{equation}\n",
    "k=\\frac{\\pi}{L}\\sqrt\\frac{P}{P_{cr}}\n",
    "\\end{equation}\n",
    "\n",
    "Therefore, \n",
    "\n",
    "\\begin{equation}\n",
    "kL = \\pi\\sqrt{\\frac{P}{P_{cr}}}\n",
    "\\end{equation}\n",
    "\n",
    "We can now substitute this expression back into our equation for the maximum deflection at the mid height to yield,\n",
    "\n",
    "\\begin{equation}\n",
    "\\delta=e\\left[\\sec\\left(\\frac{\\pi}{2}\\sqrt{\\frac{P}{P_{cr}}}\\right)-1\\right]\n",
    "\\end{equation}\n",
    "\n",
    "We can plot this equation to obtain a load versus deflection curve for various values of load eccentricity, $e$."
   ]
  },
  {
   "cell_type": "markdown",
   "metadata": {},
   "source": [
    "![title](img/5./image2.jpg)"
   ]
  },
  {
   "cell_type": "markdown",
   "metadata": {},
   "source": [
    "<mark><b>💡We can observe from this graph that the relationship between lateral deflection at mid-height and applied load is non-linear. This means we cannot use the principle of superposition to determine the influence of multiple simultaneously applied loads.<b></mark>"
   ]
  },
  {
   "cell_type": "markdown",
   "metadata": {},
   "source": [
    "The vertical line in the graph above, represents the case when $e=0$.  In this case we observe the equilibrium states discussed previously. For values of $e>0$, as $P$ approaches the critical load, the deflection increases and the horizontal line representing the value of critical load becomes an asymptote for the load-deflection curves. \n",
    "\n",
    "Remember that the preceding derivation is based on the assumptions of small deflections. So in reality as the deflections increase, the observed behaviour of the column will deviate form the strict mathematically predicted behaviour visualised in the graph above. "
   ]
  },
  {
   "cell_type": "markdown",
   "metadata": {},
   "source": [
    "<mark><font color='red'><b>⚠️ A key takeaway from this section is that the behaviour of a real world column under realistic loading conditions is not likely to accord with the strict mathematical models we evaluated previously for perfectly axially loaded columns.</b></font></mark>"
   ]
  },
  {
   "cell_type": "markdown",
   "metadata": {},
   "source": [
    "### Exercise 1"
   ]
  },
  {
   "cell_type": "markdown",
   "metadata": {},
   "source": [
    "Consider the column pictured below. It is subject to an eccentrically applied axial load of 60 kN. You can assume a Young's Modulus of 200 kN/mm$^2$. \n",
    "- Calculate the maximum lateral deflection induced by the eccentric axial load.\n",
    "- Calculate the maximum moment induced by the eccentric axial load."
   ]
  },
  {
   "cell_type": "markdown",
   "metadata": {},
   "source": [
    "![title](img/5./image3.jpg)"
   ]
  },
  {
   "cell_type": "markdown",
   "metadata": {},
   "source": [
    "### Exercise 2"
   ]
  },
  {
   "cell_type": "markdown",
   "metadata": {},
   "source": [
    "The column pictured below is a 254UC89. It has a steel beam framing into its weak axis. As a result the column experiences a compression force of 175 kN at an eccentricity of 128 mm. You can assume a Young's Modulus of 200 kN/mm$^2$. \n",
    "\n",
    "If the maximum lateral deflection must be limited to L/400 where L is the height of the column between pinned restraints, determine the maximum allowable column height. "
   ]
  },
  {
   "cell_type": "markdown",
   "metadata": {},
   "source": [
    "![title](img/5./image4.jpg)"
   ]
  }
 ],
 "metadata": {
  "hide_input": false,
  "kernelspec": {
   "display_name": "Python 3",
   "language": "python",
   "name": "python3"
  },
  "language_info": {
   "codemirror_mode": {
    "name": "ipython",
    "version": 3
   },
   "file_extension": ".py",
   "mimetype": "text/x-python",
   "name": "python",
   "nbconvert_exporter": "python",
   "pygments_lexer": "ipython3",
   "version": "3.6.4"
  }
 },
 "nbformat": 4,
 "nbformat_minor": 2
}
