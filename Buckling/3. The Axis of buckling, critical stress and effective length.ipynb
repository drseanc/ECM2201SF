{
 "cells": [
  {
   "cell_type": "code",
   "execution_count": 3,
   "metadata": {
    "deletable": false,
    "editable": false,
    "hide_input": true
   },
   "outputs": [
    {
     "name": "stdout",
     "output_type": "stream",
     "text": [
      "- Dependencies imported 👍\n",
      "- Remember to select 'Kernel-> Restart & Run All' on first load to show embedded Youtube videos 🎬\n",
      "- Author: Dr SPCarroll, Sept 2020, Rev 1\n"
     ]
    }
   ],
   "source": [
    "#DEPENDENCIES & INITIALISATIONS\n",
    "from IPython.display import HTML #For embedding videos\n",
    "import math #Basic math functionality\n",
    "import numpy as np #Numpy for working with arrays\n",
    "import matplotlib.pyplot as plt #Plotting functionality \n",
    "#HTML('<center><iframe width=\"560\" height=\"315\" src=\"#\" frameborder=\"0\" allowfullscreen></iframe></center>')\n",
    "print(\"- Dependencies imported 👍\")\n",
    "print(\"- Remember to select 'Kernel-> Restart & Run All' on first load to show embedded Youtube videos 🎬\")\n",
    "print(\"- Author: Dr SPCarroll, Sept 2020, Rev 1\")"
   ]
  },
  {
   "cell_type": "markdown",
   "metadata": {},
   "source": [
    "![title](img/3./banner.jpg)"
   ]
  },
  {
   "cell_type": "markdown",
   "metadata": {},
   "source": [
    "## 1.0 Axis of buckling, critical stress & effective length"
   ]
  },
  {
   "cell_type": "markdown",
   "metadata": {},
   "source": [
    "We recall from the equation for the buckling load that it is a function of $I$, the second moment of area of the cross-section,\n",
    "\n",
    "\\begin{equation}\n",
    "P=\\frac{n^2\\pi^2EI}{L^2}\n",
    "\\end{equation}"
   ]
  },
  {
   "cell_type": "markdown",
   "metadata": {},
   "source": [
    "Thus for a given cross-section, a column will always buckle about the axis with the lower second moment of area, the 'weaker' axis. This assumes that both axes have equal restraint. Consider the case of a universal column (UC) section under compression..."
   ]
  },
  {
   "cell_type": "markdown",
   "metadata": {},
   "source": [
    "![title](img/3./image1.jpg)"
   ]
  },
  {
   "cell_type": "markdown",
   "metadata": {},
   "source": [
    "<mark><b>💡About which axis will this column buckle?<b></mark>"
   ]
  },
  {
   "cell_type": "markdown",
   "metadata": {},
   "source": [
    "Since the X-X axis, is the major principle axis (with the largest value of second moment of area - remember your work on Mohr's circle), it is the stronger axis and so the column will buckle about the minor principle or Y-Y axis first.\n",
    "\n",
    "When considering the buckling load for a column structure, the cross-section shape plays a key role, you should evaluate the major and minor principal axes to determine the critical axis for buckling. "
   ]
  },
  {
   "cell_type": "markdown",
   "metadata": {},
   "source": [
    "## 2.0 Critical Stress"
   ]
  },
  {
   "cell_type": "markdown",
   "metadata": {},
   "source": [
    "<mark><b>📌 The critical stress is the average axial stress in a cross-section under the critical load.<b></mark>"
   ]
  },
  {
   "cell_type": "markdown",
   "metadata": {},
   "source": [
    "\\begin{equation}\n",
    "\\sigma_{cr}=\\frac{P_{cr}}{A}=\\frac{\\pi^2EI}{AL^2}\n",
    "\\end{equation}\n",
    "\n",
    "We now define the **Radius of Gyration**, as:\n",
    "\n",
    "\\begin{equation}\n",
    "r=\\sqrt{\\frac{I}{A}}\n",
    "\\end{equation}\n",
    "\n",
    "We can therefore write the critical stress as,\n",
    "\n",
    "\\begin{equation}\n",
    "\\sigma_{cr}=\\frac{\\pi^2E}{\\left(\\frac{L}{r}\\right)^2}\n",
    "\\end{equation}\n",
    "\n",
    "Finally we define the Slenderness Ratio as,\n",
    "\n",
    "\\begin{equation}\n",
    "\\lambda=\\frac{L}{r}\n",
    "\\end{equation}\n",
    "\n",
    "The slenderness ratio is a very useful measure of a column's geometry and susceptibility to buckling. A high slenderness ratio indicates greater susceptibility to buckling. The slenderness ratio should be determined separately for each principle axis. "
   ]
  },
  {
   "cell_type": "markdown",
   "metadata": {},
   "source": [
    "![title](img/3./image2.jpg)"
   ]
  },
  {
   "cell_type": "markdown",
   "metadata": {},
   "source": [
    "The equation for critical stress can therefore be written as,\n",
    "\n",
    "\\begin{equation}\n",
    "\\sigma_{cr}=\\frac{\\pi^2E}{\\lambda^2}\n",
    "\\end{equation}\n",
    "\n",
    "Plotting the critical stress, versus slenderness ratio for a given value of Young's modulus yields an Euler Curve showing the safe range of average axial stress for a given slenderness ratio  (or the safe range of slenderness ratio values for a given axial stress.)"
   ]
  },
  {
   "cell_type": "markdown",
   "metadata": {},
   "source": [
    "![title](img/3./image3.jpg)"
   ]
  },
  {
   "cell_type": "markdown",
   "metadata": {},
   "source": [
    "<mark><b>📌 Euler curve is only valid for critical stresses below the material yield stress.<b></mark>"
   ]
  },
  {
   "cell_type": "markdown",
   "metadata": {},
   "source": [
    "## Effective Length"
   ]
  },
  {
   "cell_type": "markdown",
   "metadata": {},
   "source": [
    "The effective length of a column, $L_e$, is the length between points of inflection on the deflected curve/shape, even if the shape must be extended until a point of inflection is reached.\n",
    "\n",
    "For a pinned-pinned column, the effective length is simply the length between supports at each end. The effective length concept becomes more interesting when we consider columns with different end conditions. "
   ]
  },
  {
   "cell_type": "markdown",
   "metadata": {},
   "source": [
    "![title](img/3./image4.jpg)"
   ]
  },
  {
   "cell_type": "markdown",
   "metadata": {},
   "source": [
    "Consider a column with a fixed support at its base and no lateral restraint at the top (fixed-free). At the base, not rotation can occur. In order to obtain two inflection points on the deflected shape, it must be extended, as shown below."
   ]
  },
  {
   "cell_type": "markdown",
   "metadata": {},
   "source": [
    "![title](img/3./image5.jpg)"
   ]
  },
  {
   "cell_type": "markdown",
   "metadata": {},
   "source": [
    "The 'imaginary' red portion of the deflected shape is the extension required to provide inflection point number 2. This the effective length for a fixed free column is $2L$."
   ]
  },
  {
   "cell_type": "markdown",
   "metadata": {},
   "source": [
    "<mark><b>💡Another way to thing about effective length is that it's the length of an equivalent pinned end column. Before we formally tackle other end conditions, think about how they might change the effective length.<b></mark>"
   ]
  },
  {
   "cell_type": "markdown",
   "metadata": {},
   "source": [
    "Before concluding our discussion of effective length, we can define a general expression for the critical load as,\n",
    "\n",
    "\\begin{equation}\n",
    "P_{cr}=\\frac{\\pi^2EI}{{L_e}^2}\n",
    "\\end{equation}\n",
    "\n",
    "If we now introduce the Effective Length Factor, $K$, such that,\n",
    "\n",
    "\\begin{equation}\n",
    "L_e=Kl\n",
    "\\end{equation}\n",
    "\n",
    "We can state the critical load as a function of the effective length factor,\n",
    "\n",
    "\\begin{equation}\n",
    "P_{cr}=\\frac{\\pi^2EI}{{(KL)}^2}\n",
    "\\end{equation}"
   ]
  },
  {
   "cell_type": "markdown",
   "metadata": {},
   "source": [
    "## Exercise "
   ]
  },
  {
   "cell_type": "markdown",
   "metadata": {},
   "source": [
    "Consider the column below. The steel UC must resist an ultimate axial load of $1000$ kN. It has a length of $10$ m and is laterally restrained at mid-height against **minor axis bending only**. Assume a steel yield stress $\\sigma_y = 300$ N/mm$^2$. You should assume a Young's Modulus value of $200$ kN/mm$^2$.\n",
    "\n",
    "**Identify a suitable UC section to resist Euler Buckling.**\n",
    "\n",
    "Note: You can access a table of UC sections from the Module ELE page."
   ]
  },
  {
   "cell_type": "markdown",
   "metadata": {},
   "source": [
    "![title](img/3./image6.jpg)"
   ]
  }
 ],
 "metadata": {
  "hide_input": false,
  "kernelspec": {
   "display_name": "Python 3",
   "language": "python",
   "name": "python3"
  },
  "language_info": {
   "codemirror_mode": {
    "name": "ipython",
    "version": 3
   },
   "file_extension": ".py",
   "mimetype": "text/x-python",
   "name": "python",
   "nbconvert_exporter": "python",
   "pygments_lexer": "ipython3",
   "version": "3.6.4"
  }
 },
 "nbformat": 4,
 "nbformat_minor": 2
}
