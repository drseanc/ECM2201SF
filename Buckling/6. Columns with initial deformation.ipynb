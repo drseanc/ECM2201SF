{
 "cells": [
  {
   "cell_type": "code",
   "execution_count": 3,
   "metadata": {
    "deletable": false,
    "editable": false,
    "hide_input": false
   },
   "outputs": [
    {
     "name": "stdout",
     "output_type": "stream",
     "text": [
      "- Dependencies imported 👍\n",
      "- Remember to select 'Kernel-> Restart & Run All' on first load to show embedded Youtube videos 🎬\n",
      "- Author: Dr SPCarroll, Sept 2020, Rev 1\n"
     ]
    }
   ],
   "source": [
    "#DEPENDENCIES & INITIALISATIONS\n",
    "from IPython.display import HTML #For embedding videos\n",
    "import math #Basic math functionality\n",
    "import numpy as np #Numpy for working with arrays\n",
    "import matplotlib.pyplot as plt #Plotting functionality \n",
    "#HTML('<center><iframe width=\"560\" height=\"315\" src=\"#\" frameborder=\"0\" allowfullscreen></iframe></center>')\n",
    "print(\"- Dependencies imported 👍\")\n",
    "print(\"- Remember to select 'Kernel-> Restart & Run All' on first load to show embedded Youtube videos 🎬\")\n",
    "print(\"- Author: Dr SPCarroll, Sept 2020, Rev 1\")"
   ]
  },
  {
   "cell_type": "markdown",
   "metadata": {},
   "source": [
    "![title](img/6./banner.jpg)"
   ]
  },
  {
   "cell_type": "markdown",
   "metadata": {},
   "source": [
    "# 6. Columns with initial deformation"
   ]
  },
  {
   "cell_type": "markdown",
   "metadata": {},
   "source": [
    "## 1.0 Introduction"
   ]
  },
  {
   "cell_type": "markdown",
   "metadata": {},
   "source": [
    "In this section we're going to consider the behaviour of a column that already has an initial lateral deformation. We will follow the same procedure as before to determine an equation that describes the shape of the column under axial load."
   ]
  },
  {
   "cell_type": "markdown",
   "metadata": {},
   "source": [
    "## 2.0 Governing Differential Equation"
   ]
  },
  {
   "cell_type": "markdown",
   "metadata": {},
   "source": [
    "Consider the pinned-pinned column below that has an initial lateral deflection, $v_0$."
   ]
  },
  {
   "cell_type": "markdown",
   "metadata": {},
   "source": [
    "![title](img/6./image1.jpg)"
   ]
  },
  {
   "cell_type": "markdown",
   "metadata": {},
   "source": [
    "Note that the complete lateral deflection consists of the initial deflection and the buckled deflection,\n",
    "\n",
    "\\begin{equation}\n",
    "v(x) = \\bar{v}(x) + v_o(x)\n",
    "\\end{equation}\n",
    "\n",
    "By considering the equilibrium of a sub-section of the structure we can determine an equation for the internal moment of resistance at some position along the column length."
   ]
  },
  {
   "cell_type": "markdown",
   "metadata": {},
   "source": [
    "![title](img/6./image2.jpg)"
   ]
  },
  {
   "cell_type": "markdown",
   "metadata": {},
   "source": [
    "Note that for clarity, hereafter we'll dispense with the $(x)$ as it's clear that the lateral deflection is always a function of $x$. Taking moments about point A yields,\n",
    "\n",
    "\\begin{equation}\n",
    "M=-Pv\n",
    "\\end{equation}\n",
    "\n",
    "\\begin{equation}\n",
    "M=-P(\\bar{v} + v_0)\n",
    "\\end{equation}\n",
    "\n",
    "Substituting this expression for $M$ into the differential equation of the deflection curve yields,\n",
    "\n",
    "\\begin{equation}\n",
    "EI\\frac{\\mathrm{d}^2\\bar{v}}{\\mathrm{dx^2}}=-P\\bar{v} - Pv_0\n",
    "\\end{equation}\n",
    "\n",
    "Making the usual simplifying substitutions and letting,\n",
    "\n",
    "\\begin{equation}\n",
    "\\frac{\\mathrm{d}^2\\bar{v}}{\\mathrm{dx^2}}=\\ddot{\\bar{v}}\n",
    "\\end{equation}\n",
    "\n",
    "and\n",
    "\n",
    "\\begin{equation}\n",
    "k^2=\\frac{P}{EI}\n",
    "\\end{equation}\n",
    "\n",
    "we obtain, \n",
    "\n",
    "\\begin{equation}\n",
    "\\ddot{\\bar{v}} + k^2\\bar{v} = -k^2v_0\n",
    "\\end{equation}\n",
    "\n",
    "To proceed with the derivation we need to assume some function of $x$ to describe the initial deformation of the column. For the purposes of this derivation we can assume that a simple sine function describes the initial deformation $v_0$. In this case we have the following differential equation of the deflection curve,\n",
    "\n",
    "\\begin{equation}\n",
    "\\ddot{\\bar{v}} + k^2\\bar{v} = -k^2V_0\\sin\\left(\\frac{\\pi x}{L}\\right)\n",
    "\\end{equation}\n",
    "\n",
    "We've already seen that the complementary solution (i.e. the solution when the RHS equals zero) is given by,\n",
    "\n",
    "\\begin{equation}\n",
    "\\bar{V}_c = C_1 \\sin(kx) + C_2 \\cos(kx)\n",
    "\\end{equation}"
   ]
  },
  {
   "cell_type": "markdown",
   "metadata": {},
   "source": [
    "### 2.1 The particular solution"
   ]
  },
  {
   "cell_type": "markdown",
   "metadata": {},
   "source": [
    "This just leaves the particular solution to be calculated. Because the right hand side of the differential equation contains a sinusoid, we can assume a general sinusoid for the particular solution, this gives us,\n",
    "\n",
    "\\begin{equation}\n",
    "\\bar{v}_p=C_3\\sin\\left(\\frac{\\pi x}{L}\\right)+C_4\\cos\\left(\\frac{\\pi x}{L}\\right)\n",
    "\\end{equation}\n",
    "\n",
    "Remember that the reason we assume a solution is so that we can differentiate it and substitute it back into our governing differential equation, so differentiating yields,\n",
    "\n",
    "\\begin{equation}\n",
    "\\dot{\\bar{v}}_p = C_3\\frac{\\pi}{L}\\cos\\left(\\frac{\\pi x}{L}\\right) - C_4\\frac{\\pi}{L}\\sin\\frac{\\pi x}{L}\n",
    "\\end{equation}\n",
    "\n",
    "\\begin{equation}\n",
    "\\ddot{\\bar{v}}_p = -C_3\\frac{\\pi^2}{L^2}\\sin\\left(\\frac{\\pi x}{L}\\right) - C_4\\frac{\\pi^2}{L^2}\\cos\\frac{\\pi x}{L}\n",
    "\\end{equation}\n",
    "\n",
    "Now subbing these expressions back into our governing differential equation yields,\n",
    "\n",
    "\\begin{equation}\n",
    "\\frac{-\\pi^2}{L^2}\\left[C_3\\sin\\left(\\frac{\\pi x}{L}\\right)+C_4\\cos\\left(\\frac{\\pi x}{L}\\right)\\right]+k^2\\left[C_3\\sin\\left(\\frac{\\pi x}{L}\\right) + C_4\\cos\\left(\\frac{\\pi x}{L}\\right)\\right]=-k^2V_0\\sin\\left(\\frac{\\pi x}{L}\\right)\n",
    "\\end{equation}\n",
    "\n",
    "Now, if we equate cosine terms on the left hand side with cosine terms on the right hand side, we get,\n",
    "\n",
    "\\begin{equation}\n",
    "C_4\\left[\\frac{-\\pi^2}{L^2}\\cos\\left(\\frac{\\pi x}{L}\\right)+k^2\\cos\\left(\\frac{\\pi x}{L}\\right)\\right]=0\n",
    "\\end{equation}\n",
    "\n",
    "Now since we know the term in brackets doesn't equal zero, we can deduce that $C_4=0$. Now equating sine terms on both sides gives us,\n",
    "\n",
    "\\begin{equation}\n",
    "C_3\\left[\\frac{-\\pi^2}{L^2}\\sin\\left(\\frac{\\pi x}{L}\\right) + k^2\\sin\\left(\\frac{\\pi x}{L}\\right)\\right]=-k^2 V_0\\sin\\left(\\frac{\\pi x}{L}\\right)\n",
    "\\end{equation}\n",
    "\n",
    "Rearranging this expression yields, \n",
    "\n",
    "\\begin{equation}\n",
    "C_3=\\frac{-k^2V_0}{\\left(\\frac{-\\pi ^2}{L^2}+k^2\\right)}\n",
    "\\end{equation}\n",
    "\n",
    "We can now state the particular solution to the equation as,\n",
    "\n",
    "\\begin{equation}\n",
    "\\bar{v}_p =\\frac{-k^2}{\\left(\\frac{-\\pi ^2}{L^2}+k^2\\right)}V_0\\sin\\left(\\frac{\\pi x}{L}\\right)\n",
    "\\end{equation}\n",
    "\n",
    "Combining the particular and complimentary solutions gives us the general solution, \n",
    "\n",
    "\\begin{equation}\n",
    "\\bar{v} = C_1\\sin(kx) + C_2 \\cos(kx) + \\frac{k^2}{\\left(\\frac{\\pi ^2}{L^2}-k^2\\right)}V_0\\sin\\left(\\frac{\\pi x}{L}\\right)\n",
    "\\end{equation}"
   ]
  },
  {
   "cell_type": "markdown",
   "metadata": {},
   "source": [
    "### 2.2 General solution and boundary conditions"
   ]
  },
  {
   "cell_type": "markdown",
   "metadata": {},
   "source": [
    "At this point we can apply boundary conditions to determine the remaining unknown constants of integration. At $x=0$ (base of the column at pin support), $v=0$ (the lateral deflection must equal zero). Imposing this condition on our general solution yields,\n",
    "\n",
    "\\begin{equation}\n",
    "C_2=0\n",
    "\\end{equation}\n",
    "\n",
    "Thus our general solution simplifies to,\n",
    "\n",
    "\\begin{equation}\n",
    "\\bar{v} = C_1\\sin(kx) + \\frac{k^2}{\\left(\\frac{\\pi ^2}{L^2}-k^2\\right)}V_0\\sin\\left(\\frac{\\pi x}{L}\\right)\n",
    "\\end{equation}\n",
    "\n",
    "The second boundary condition is that at $x=L$ (top of the column at pin support), $v=0$ (lateral deflection is also zero). Again, imposing this condition yields,\n",
    "\n",
    "\\begin{equation}\n",
    "C_1\\sin\\left(\\sqrt{\\frac{P}{EI}}L\\right)=0\n",
    "\\end{equation}\n",
    "\n",
    "From this we can deduce that $C_1$ must equal zero as the sine term cannot equal zero for a non-trivial solution. Therefore the complete buckling deflection is given by,\n",
    "\n",
    "\\begin{equation}\n",
    "\\bar{v} = \\frac{\\frac{P}{EI}}{\\left(\\frac{\\pi^2}{L^2}-\\frac{P}{EI}\\right)}V_0\\sin\\left(\\frac{\\pi x}{L}\\right)\n",
    "\\end{equation}\n",
    "\n",
    "Now to make this a little easier to manage, remember that,\n",
    "\n",
    "\\begin{equation}\n",
    "P_E=\\frac{\\pi^2EI}{L^2}\n",
    "\\end{equation}\n",
    "\n",
    "If we now define the ratio,\n",
    "\n",
    "\\begin{equation}\n",
    "\\rho = \\frac{P}{P_E}\n",
    "\\end{equation}\n",
    "\n",
    "we can restate the buckling deflection as, \n",
    "\n",
    "\\begin{equation}\n",
    "\\bar{v} = \\left(\\frac{\\rho}{1-\\rho}\\right)V_0\\sin\\left(\\frac{\\pi x}{L}\\right)\n",
    "\\end{equation}\n",
    "\n",
    "Therefore the total deflection (remember this is the initial deflection plus the buckling deflection) is given by,\n",
    "\n",
    "\\begin{equation}\n",
    "v=V_0\\sin\\left(\\frac{\\pi x}{L}\\right) + \\frac{\\rho}{1-\\rho}V_0\\sin\\left(\\frac{\\pi x}{L}\\right)\n",
    "\\end{equation}\n",
    "\n",
    "We can simplify this to, \n",
    "\n",
    "\\begin{equation}\n",
    "v=\\frac{V_0}{1-\\rho}\\sin\\left(\\frac{\\pi x}{L}\\right)\n",
    "\\end{equation}\n",
    "\n",
    "or,\n",
    "\n",
    "\\begin{equation}\n",
    "v=\\alpha V_0\\sin\\left(\\frac{\\pi x}{L}\\right)\n",
    "\\end{equation}\n",
    "\n",
    "where,\n",
    "\n",
    "\\begin{equation}\n",
    "\\alpha = \\frac{1}{1-\\rho}\n",
    "\\end{equation}"
   ]
  },
  {
   "cell_type": "markdown",
   "metadata": {},
   "source": [
    "### 2.3 Behavioural observations"
   ]
  },
  {
   "cell_type": "markdown",
   "metadata": {},
   "source": [
    "We can see from the equation derived above that the factor $\\alpha$ represents a magnification factor on the initial displacement. As the axial load, $P$ increases, the magnitude of lateral deflection increases but the deflected shape remains the same. Note that when $P=P_E$, the equation breaks down as the magnification factor alpha goes to infinity.\n",
    "\n",
    "This is not likely to be a problem because $P$ is not likely to reach $P_E$ while the structure satisfies our small deflection assumption. We can plot the relationship between $\\rho$ and $\\alpha$ to visualise the behaviour of the column."
   ]
  },
  {
   "cell_type": "markdown",
   "metadata": {},
   "source": [
    "![title](img/6./image3.jpg)"
   ]
  },
  {
   "cell_type": "markdown",
   "metadata": {},
   "source": [
    "It's important to recognise that for a column with an initial deformation, we do not observe the strict mathematical behaviour predicted for perfectly loaded perfectly straight columns. Even so, the Euler load is still an important quantity that has a role in predicted the lateral deflection of the column via the ratio $\\rho$.  "
   ]
  }
 ],
 "metadata": {
  "hide_input": false,
  "kernelspec": {
   "display_name": "Python 3",
   "language": "python",
   "name": "python3"
  },
  "language_info": {
   "codemirror_mode": {
    "name": "ipython",
    "version": 3
   },
   "file_extension": ".py",
   "mimetype": "text/x-python",
   "name": "python",
   "nbconvert_exporter": "python",
   "pygments_lexer": "ipython3",
   "version": "3.6.4"
  }
 },
 "nbformat": 4,
 "nbformat_minor": 2
}
