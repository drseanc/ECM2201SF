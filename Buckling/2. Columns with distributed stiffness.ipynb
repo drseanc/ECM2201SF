{
 "cells": [
  {
   "cell_type": "code",
   "execution_count": 3,
   "metadata": {
    "deletable": false,
    "editable": false,
    "hide_input": true
   },
   "outputs": [
    {
     "name": "stdout",
     "output_type": "stream",
     "text": [
      "- Dependencies imported 👍\n",
      "- Remember to select 'Kernel-> Restart & Run All' on first load to show embedded Youtube videos 🎬\n",
      "- Author: Dr SPCarroll, Sept 2020, Rev 1\n"
     ]
    }
   ],
   "source": [
    "#DEPENDENCIES & INITIALISATIONS\n",
    "from IPython.display import HTML #For embedding videos\n",
    "import math #Basic math functionality\n",
    "import numpy as np #Numpy for working with arrays\n",
    "import matplotlib.pyplot as plt #Plotting functionality \n",
    "#HTML('<center><iframe width=\"560\" height=\"315\" src=\"#\" frameborder=\"0\" allowfullscreen></iframe></center>')\n",
    "print(\"- Dependencies imported 👍\")\n",
    "print(\"- Remember to select 'Kernel-> Restart & Run All' on first load to show embedded Youtube videos 🎬\")\n",
    "print(\"- Author: Dr SPCarroll, Sept 2020, Rev 1\")"
   ]
  },
  {
   "cell_type": "markdown",
   "metadata": {},
   "source": [
    "![title](img/2./banner.jpg)"
   ]
  },
  {
   "cell_type": "markdown",
   "metadata": {},
   "source": [
    "# Columns with Distributed Stiffness"
   ]
  },
  {
   "cell_type": "markdown",
   "metadata": {},
   "source": [
    "## 1.0 Introduction"
   ]
  },
  {
   "cell_type": "markdown",
   "metadata": {},
   "source": [
    "In this section we'll start to consider more realistic structures. In particular we'll determine an expression for a critical load for an axially loaded column with pinned ends. \n",
    "\n",
    "To refresh your memory, when we refer to a pin support, this is a support that offers no resistance to rotation. Sometimes we come across pin supports in practice that very closely approximate this theoretical definition. You can see some examples below."
   ]
  },
  {
   "cell_type": "markdown",
   "metadata": {},
   "source": [
    "![title](img/2./image1.jpg)"
   ]
  },
  {
   "cell_type": "markdown",
   "metadata": {},
   "source": [
    "For the purposes of our discussion here, we'll assume we're dealing with pin supports like these, and that they don't inhibit the rotation of the structure. "
   ]
  },
  {
   "cell_type": "markdown",
   "metadata": {},
   "source": [
    "## 2.0 Column Pinned at Both Ends"
   ]
  },
  {
   "cell_type": "markdown",
   "metadata": {},
   "source": [
    "In order to analyse this structure, we're going to use the differential equation of the defection curve in which $v$ represents the lateral deflection of the column and $x$ the distance along the length of the column. $EI$ is referred to as the flexural rigidity and is the product of Young's modulus $E$ and the second moment of area of the cross-section $I$.\n",
    "\n",
    "\\begin{equation}\n",
    "EI\\frac{\\mathrm{d}^2v}{\\mathrm{dx^2}}=M\n",
    "\\end{equation}"
   ]
  },
  {
   "cell_type": "markdown",
   "metadata": {},
   "source": [
    "<mark><b>💡This equation simply models the deflected shape of the column for a given flexural rigidity.<b></mark>"
   ]
  },
  {
   "cell_type": "markdown",
   "metadata": {},
   "source": [
    "You're likely to have come across this equation in your study of beam bending. Our laterally deflected column behaves in much the same way. Remember buckling is a bending failure rather than a failure due to direct compression (crushing).\n",
    "\n",
    "Our task now, is to use this equation to derive an expression for the critical axial load in a pinned-end column."
   ]
  },
  {
   "cell_type": "markdown",
   "metadata": {},
   "source": [
    "<mark><font color='red'><b>⚠️ Just as for the idealised structure, our derivation here will also assume all deflections are small by comparison to the size of the structure.</b></font></mark>"
   ]
  },
  {
   "cell_type": "markdown",
   "metadata": {},
   "source": [
    "### 2.1 Establishing the differential equation"
   ]
  },
  {
   "cell_type": "markdown",
   "metadata": {},
   "source": [
    "First consider the structure, its deflected shape and the free-body diagram that results from cutting the structure at a distance $x$ from the bottom support,"
   ]
  },
  {
   "cell_type": "markdown",
   "metadata": {},
   "source": [
    "![title](img/2./image2.jpg)"
   ]
  },
  {
   "cell_type": "markdown",
   "metadata": {},
   "source": [
    "Taking moments about point A yields,\n",
    "\n",
    "\\begin{equation}\n",
    "M=-Pv\n",
    "\\end{equation}\n",
    "\n",
    "Now substituting $M$ back into the differential equation of the deflection curve and rearranging slightly yields,\n",
    "\n",
    "\\begin{equation}\n",
    "\\frac{\\mathrm{d}^2v}{\\mathrm{d}x^2} + \\frac{P}{EI}v=0\n",
    "\\end{equation}\n",
    "\n",
    "This is a linear, homogeneous, 2nd order differential equation with constant coefficients. It also happens to be an equation that models the deflected shape of our structure and contains $P$, the axial load. Following the same approach as for the idealised structure, if we solve this equation we can determine $P_{cr}$, the value of applied load at which it is balanced by the column's flexural bending resistance. \n",
    "\n",
    "So we're faced with trying to solve a differential equation. Watch the video below to see how we can solve for the general solution to this differential equation."
   ]
  },
  {
   "cell_type": "markdown",
   "metadata": {},
   "source": [
    "### 2.2 General solution to the differential equation."
   ]
  },
  {
   "cell_type": "code",
   "execution_count": 8,
   "metadata": {
    "hide_input": true
   },
   "outputs": [
    {
     "data": {
      "text/html": [
       "<center><iframe width=\"560\" height=\"315\" src=\"https://www.youtube.com/embed/asNh3zrQCMo\" frameborder=\"0\" allow=\"accelerometer; autoplay; encrypted-media; gyroscope; picture-in-picture\" allowfullscreen></iframe></center>"
      ],
      "text/plain": [
       "<IPython.core.display.HTML object>"
      ]
     },
     "execution_count": 8,
     "metadata": {},
     "output_type": "execute_result"
    }
   ],
   "source": [
    "HTML('<center><iframe width=\"560\" height=\"315\" src=\"https://www.youtube.com/embed/asNh3zrQCMo\" frameborder=\"0\" allow=\"accelerometer; autoplay; encrypted-media; gyroscope; picture-in-picture\" allowfullscreen></iframe></center>')"
   ]
  },
  {
   "cell_type": "markdown",
   "metadata": {},
   "source": [
    "So, the general solution is,\n",
    "\n",
    "\\begin{equation}\n",
    "v(x) = C_1 \\sin\\left(\\sqrt{\\frac{P}{EI}}x\\right) + C_2\\cos\\left(\\sqrt{\\frac{P}{EI}}x\\right)\n",
    "\\end{equation}"
   ]
  },
  {
   "cell_type": "markdown",
   "metadata": {},
   "source": [
    "### 2.3 Solving for the constants of integration"
   ]
  },
  {
   "cell_type": "markdown",
   "metadata": {},
   "source": [
    "Now that we have the general solution for this format of equation, we need to solve for the constants of integration using the boundary conditions (pinned-pinned) for our column. \n",
    "\n",
    "**Boundary condition #1**\n",
    "At $x=0$ (base of the column at pin support), $v=0$ (the lateral deflection must equal zero. Imposing these conditions on our general solution yields,\n",
    "\n",
    "\\begin{equation}\n",
    "0=C_1\\sin(0) + C_2\\cos(0)\n",
    "\\end{equation}\n",
    "\n",
    "Therefore, $C_2 = 0$. As a result our solution reduces to,\n",
    "\n",
    "\\begin{equation}\n",
    "v(x)=C_1\\sin \\left(\\sqrt{\\frac{P}{EI}}x\\right)\n",
    "\\end{equation}\n",
    "\n",
    "**Boundary condition #2**\n",
    "At $x=L$ (top of the column at pin support), $v=0$ (lateral deflection also zero). Again, imposing these boundary conditions yields,\n",
    "\n",
    "\\begin{equation}\n",
    "0=C_1\\sin\\left(\\sqrt{\\frac{P}{EI}}L\\right)\n",
    "\\end{equation}\n",
    "\n",
    "So, either $C_1=0$ or $\\sin(...) = 0$. If $C_1=0$, the equation is satisfied for any value of $P$. This doesn't really move us forward, we can think of this solution as the trivial solution. Of more interest is the case where,\n",
    "\n",
    "\\begin{equation}\n",
    "\\sin\\left(\\sqrt{\\frac{P}{EI}}L\\right)=0\n",
    "\\end{equation}\n",
    "\n",
    "Knowing what we know about $\\sin$ functions, this equation can only be true when, \n",
    "\n",
    "\\begin{equation}\n",
    "\\sqrt{\\frac{P}{EI}}L = 0, \\pi, 2\\pi,...n\\pi\n",
    "\\end{equation}\n",
    "\n",
    "We can dismiss the case when,\n",
    "\n",
    "\\begin{equation}\n",
    "\\sqrt{\\frac{P}{EI}}L = 0\n",
    "\\end{equation}\n",
    "\n",
    "In this scenario, $P$ would need to equal zero (as all other terms have non-zero values by definition) and we know this is not the case. So for a pinned-pinned column, our solution is,\n",
    "\n",
    "\\begin{equation}\n",
    "\\sqrt{\\frac{P}{EI}}L = n\\pi\n",
    "\\end{equation}\n",
    "\n",
    "where, $n=1,2,3...$. As a final step, we can rearrange this equation to make $P$ the subject of the equation,\n",
    "\n",
    "\\begin{equation}\n",
    "P=\\frac{n^2\\pi^2EI}{L^2}\\:\\:\\text{for }n=1,2,3...\n",
    "\\end{equation}\n",
    "\n",
    "\n"
   ]
  },
  {
   "cell_type": "markdown",
   "metadata": {},
   "source": [
    "<mark><b>💡This equation represents an infinite series of buckling loads. The lowest one $(n=1)$ is the critical buckling load, also known as the Euler Buckling Load $P_E$.<b></mark>"
   ]
  },
  {
   "cell_type": "markdown",
   "metadata": {},
   "source": [
    "## 3.0 Buckling Modes/Shapes"
   ]
  },
  {
   "cell_type": "markdown",
   "metadata": {},
   "source": [
    "So far, we have established that there is an infinite series of buckling loads and the lowest one is the critical load and called the **Euler Buckling Load**. This raises the question of what do the larger buckling loads correspond to? \n",
    "\n",
    "These are loads that correspond to higher *modes of buckling*. Each mode of buckling has a corresponding deflected shape. To explore this further, refer back to our general solution after we established that $C_2=0$,\n",
    "\n",
    "\\begin{equation}\n",
    "v(x)=C_1\\sin \\left(\\sqrt{\\frac{P}{EI}}x\\right)\n",
    "\\end{equation}"
   ]
  },
  {
   "cell_type": "markdown",
   "metadata": {},
   "source": [
    "Application of our second boundary condition resulted in us establishing the relationship,\n",
    "\n",
    "\\begin{equation}\n",
    "\\sqrt{\\frac{P}{EI}}L = n\\pi\n",
    "\\end{equation}\n",
    "\n",
    "Combining these two equations yields,\n",
    "\n",
    "\\begin{equation}\n",
    "v(x)=C_1\\sin\\left(\\frac{n\\pi x}{L} \\right)\\:\\:\\text{for }n=1,2,3,...\n",
    "\\end{equation}"
   ]
  },
  {
   "cell_type": "markdown",
   "metadata": {},
   "source": [
    "This equation describes the deflected shape of the column for each value of the buckling load $(n=1,2,3,...)$ defined above. \n",
    "\n",
    "Only when the axial load has one of the values given by the equation (defined above),\n",
    "\n",
    "\\begin{equation}\n",
    "P=\\frac{n^2\\pi^2EI}{L^2}\n",
    "\\end{equation}\n",
    "\n",
    "can the column have a deflected shape and be in equilibrium. For any other load, the column would be straight and in a state of STABLE equilibrium $(P<P_{cr})$ or UNSTABLE equilibrium $(P>P_{cr})$. We recall this concept from our previous discussion."
   ]
  },
  {
   "cell_type": "markdown",
   "metadata": {},
   "source": [
    "![title](img/2./image3.jpg)"
   ]
  },
  {
   "cell_type": "markdown",
   "metadata": {},
   "source": [
    "### 3.1 Maximum deflection under critical load"
   ]
  },
  {
   "cell_type": "markdown",
   "metadata": {},
   "source": [
    "Our equation for the deflected or buckled shape of a column contains the parameter $C_1$, left over from our general solution to the differential equation. We now recognise that $C_1$ represents the magnitude of the sine wave or in this context, the maximum lateral deflection for the deflected/buckled deflection (defined above),\n",
    "\n",
    "\\begin{equation}\n",
    "v(x)=C_1\\sin\\left(\\frac{n\\pi x}{L} \\right)\n",
    "\\end{equation}\n",
    "\n",
    "If we now recall the states of equilibrium, when the column is in its buckled shape $(P=P_{cr})$ and in a state of neutral equilibrium, the maximum lateral deflection can have any value that still satisfies our small deflection assumption. We can represent the value of $C_1$ graphically below."
   ]
  },
  {
   "cell_type": "markdown",
   "metadata": {},
   "source": [
    "![title](img/2./image4.jpg)"
   ]
  },
  {
   "cell_type": "markdown",
   "metadata": {},
   "source": [
    "The value of $C_1$ is therefore mathematically undefined, it can have any 'small' value. Fortunately this doesn't cause us any practical difficulty, as mentioned previously, the state of neutral equilibrium is not something we observe in practice. For all intents and purposed, to a structural engineer, a column experiencing $P_{cr} is considered to have failed. This theoretical state of neutral equilibrium is also known as a bifurcation point."
   ]
  },
  {
   "cell_type": "markdown",
   "metadata": {},
   "source": [
    "### 3.2 Higher order buckling modes"
   ]
  },
  {
   "cell_type": "markdown",
   "metadata": {},
   "source": [
    "Imagine an axially loaded pinned-pinned column that is restrained laterally at its mid-height point (by a floor slab say). The column would be prevented from buckling under the first critical (Euler Buckling) load due to the lateral restraint. The floor slab restraint literally holds the column and stops it from buckling. \n",
    "\n",
    "As a result of this restraint, the column can carry more load, until it reaches the second buckling load $(n=2)$. As the column is not restrained against buckling in the second mode, it would now buckle (or theoretically enter into a state or neutral equilibrium)."
   ]
  },
  {
   "cell_type": "markdown",
   "metadata": {},
   "source": [
    "<mark><b>💡Adequate lateral restraint increases a column's resistance to buckling by 'closing off' the possibility of buckling in lower modes and 'unlocking' higher buckling loads.<b></mark>"
   ]
  },
  {
   "cell_type": "markdown",
   "metadata": {},
   "source": [
    "We can easily visualise the first three modes of buckling simply by evaluating the load and deflected shape equations for n=1,2,3.\n",
    "\n",
    "**Mode 1 $(n=1)$**"
   ]
  },
  {
   "cell_type": "markdown",
   "metadata": {},
   "source": [
    "![title](img/2./image5.jpg)"
   ]
  },
  {
   "cell_type": "markdown",
   "metadata": {},
   "source": [
    "\\begin{equation}\n",
    "P_{cr,1} = \\frac{\\pi^2EI}{L^2}\n",
    "\\end{equation}\n",
    "\n",
    "\\begin{equation}\n",
    "v_1(x) = C_1\\sin\\left(\\frac{\\pi x}{L}\\right)\n",
    "\\end{equation}"
   ]
  },
  {
   "cell_type": "markdown",
   "metadata": {},
   "source": [
    "**Mode 2 $(n=2)$**"
   ]
  },
  {
   "cell_type": "markdown",
   "metadata": {},
   "source": [
    "![title](img/2./image6.jpg)"
   ]
  },
  {
   "cell_type": "markdown",
   "metadata": {},
   "source": [
    "\\begin{equation}\n",
    "P_{cr,2} = \\frac{4\\pi^2EI}{L^2}\n",
    "\\end{equation}\n",
    "\n",
    "\\begin{equation}\n",
    "v_2(x) = C_1\\sin\\left(\\frac{2\\pi x}{L}\\right)\n",
    "\\end{equation}"
   ]
  },
  {
   "cell_type": "markdown",
   "metadata": {},
   "source": [
    "**Mode 3 $(n=3)$**"
   ]
  },
  {
   "cell_type": "markdown",
   "metadata": {},
   "source": [
    "![title](img/2./image7.jpg)"
   ]
  },
  {
   "cell_type": "markdown",
   "metadata": {},
   "source": [
    "\\begin{equation}\n",
    "P_{cr,3} = \\frac{9\\pi^2EI}{L^2}\n",
    "\\end{equation}\n",
    "\n",
    "\\begin{equation}\n",
    "v_3(x) = C_1\\sin\\left(\\frac{3\\pi x}{L}\\right)\n",
    "\\end{equation}"
   ]
  },
  {
   "cell_type": "markdown",
   "metadata": {},
   "source": [
    "<mark><b>💡For any given mode, $P_{cr}$ represents the practical upper limit on axial load. Natural imperfections, for example column out of plumb or poor load alignment will always induce buckling when the critical load is exceeded.<b></mark>"
   ]
  },
  {
   "cell_type": "markdown",
   "metadata": {},
   "source": [
    "### Exercise 1"
   ]
  },
  {
   "cell_type": "markdown",
   "metadata": {},
   "source": [
    "Consider the frame structure below. The horizontal member ABC is continuous and is vertically propped by the column BD. Column BD can be considered pinned at both ends and has a square cross-section, 50 mm $\\times$ 50 mm. All materials have a Young's Modulus of $E=200$ kN/mm$^2$. If the factor of safety against Euler buckling is 2, determine the maximum allowable force F."
   ]
  },
  {
   "cell_type": "markdown",
   "metadata": {},
   "source": [
    "![title](img/2./image8.jpg)"
   ]
  },
  {
   "cell_type": "markdown",
   "metadata": {},
   "source": [
    "### Exercise 2"
   ]
  },
  {
   "cell_type": "markdown",
   "metadata": {},
   "source": [
    "Consider the frame structure below. The horizontal member ACDB is continuous and is vertically propped by columns at C and D. Both columns can be considered pinned at both ends. \n",
    "- Determine an expression for the force F at which the first column will fail due to Euler buckling.\n",
    "- Determine an expression for the force F at which both columns fail due to Euler buckling."
   ]
  },
  {
   "cell_type": "markdown",
   "metadata": {},
   "source": [
    "![title](img/2./image9.jpg)"
   ]
  }
 ],
 "metadata": {
  "hide_input": false,
  "kernelspec": {
   "display_name": "Python 3",
   "language": "python",
   "name": "python3"
  },
  "language_info": {
   "codemirror_mode": {
    "name": "ipython",
    "version": 3
   },
   "file_extension": ".py",
   "mimetype": "text/x-python",
   "name": "python",
   "nbconvert_exporter": "python",
   "pygments_lexer": "ipython3",
   "version": "3.6.4"
  }
 },
 "nbformat": 4,
 "nbformat_minor": 2
}
