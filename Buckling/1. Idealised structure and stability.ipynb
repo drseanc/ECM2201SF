{
 "cells": [
  {
   "cell_type": "code",
   "execution_count": 1,
   "metadata": {
    "deletable": false,
    "editable": false,
    "hide_input": true
   },
   "outputs": [
    {
     "name": "stdout",
     "output_type": "stream",
     "text": [
      "- Dependencies imported 👍\n",
      "- Remember to select 'Kernel-> Restart & Run All' on first load to show embedded Youtube videos 🎬\n",
      "- Author: Dr SPCarroll, Sept 2020, Rev 1\n"
     ]
    }
   ],
   "source": [
    "#DEPENDENCIES & INITIALISATIONS\n",
    "from IPython.display import HTML #For embedding videos\n",
    "import math #Basic math functionality\n",
    "import numpy as np #Numpy for working with arrays\n",
    "import matplotlib.pyplot as plt #Plotting functionality \n",
    "#HTML('<center><iframe width=\"560\" height=\"315\" src=\"#\" frameborder=\"0\" allowfullscreen></iframe></center>')\n",
    "print(\"- Dependencies imported 👍\")\n",
    "print(\"- Remember to select 'Kernel-> Restart & Run All' on first load to show embedded Youtube videos 🎬\")\n",
    "print(\"- Author: Dr SPCarroll, Sept 2020, Rev 1\")"
   ]
  },
  {
   "cell_type": "markdown",
   "metadata": {},
   "source": [
    "![title](img/1./banner.jpg)"
   ]
  },
  {
   "cell_type": "markdown",
   "metadata": {},
   "source": [
    "# The Idealised Structure and Stability"
   ]
  },
  {
   "cell_type": "markdown",
   "metadata": {},
   "source": [
    "## 1.0 Introduction\n",
    "Long slender structural elements under the action of an axial load may fail due to buckling rather than direct compression. Buckling failure occurs when axial load induces a lateral deflection leading to a bending type failure.\n",
    "\n",
    "Buckling can also occur in plate and shell structures and is a relatively common cause of structural collapse. Depending on the geometry of the structural element, buckling can occur long before the material yields."
   ]
  },
  {
   "cell_type": "markdown",
   "metadata": {},
   "source": [
    "<center><mark><b>💡Columns rarely fail in direct compression, buckling usually occurs first<b></mark></center>"
   ]
  },
  {
   "cell_type": "markdown",
   "metadata": {},
   "source": [
    "## 2.0 The Idealised Structure"
   ]
  },
  {
   "cell_type": "markdown",
   "metadata": {},
   "source": [
    "As a starting point to understanding buckling behaviour - let's consider an idealised (simplified) structure that we can use as the basis for mathematical modelling.\n",
    "\n",
    "Our structure consists of 2 rigid bars connected by a rotational spring."
   ]
  },
  {
   "cell_type": "markdown",
   "metadata": {},
   "source": [
    "![title](img/1./image1.jpg)"
   ]
  },
  {
   "cell_type": "markdown",
   "metadata": {},
   "source": [
    "Note the following about this structure:\n",
    "- The rotational spring has a stiffness of $\\beta_R$\n",
    "- The spring provides all of the structures' rotational rigidity\n",
    "- Both bars are perfectly aligned and the external load $P$ is applied directly through the longitudinal axis\n",
    "- Under ideal conditions the system is in compression and the spring in not under any load"
   ]
  },
  {
   "cell_type": "markdown",
   "metadata": {},
   "source": [
    "### 2.1 Adding a small lateral displacement"
   ]
  },
  {
   "cell_type": "markdown",
   "metadata": {},
   "source": [
    "Think about what happens if we impose a small lateral displacement on the structure."
   ]
  },
  {
   "cell_type": "markdown",
   "metadata": {},
   "source": [
    "![title](img/1./image2.jpg)"
   ]
  },
  {
   "cell_type": "markdown",
   "metadata": {},
   "source": [
    "The rotational spring applies a restoring moment $M_B$, equal to the angle through which the spring rotates multiplied by the spring's rotational stiffness,\n",
    "\n",
    "\\begin{equation}\n",
    "M_B = 2\\theta\\times \\beta_R\n",
    "\\end{equation}"
   ]
  },
  {
   "cell_type": "markdown",
   "metadata": {},
   "source": [
    "The restoring moment acts to decrease the lateral displacement while the axial load, $P$, tries to increase it. At this point, two things could happen:\n",
    "\n",
    "- If the axial load is 'small', $M_B$ *wins* and the structure straightens up returning to its original position/state."
   ]
  },
  {
   "cell_type": "markdown",
   "metadata": {},
   "source": [
    "<center><mark><b>💡The structure is said to be STABLE</b></mark></center>"
   ]
  },
  {
   "cell_type": "markdown",
   "metadata": {},
   "source": [
    "- If the axial load is 'large', $P$ *wins*, and the lateral displacement continues until the structure collapses."
   ]
  },
  {
   "cell_type": "markdown",
   "metadata": {},
   "source": [
    "<center><mark><b>💡The structure is said to be UNSTABLE</b></mark></center>"
   ]
  },
  {
   "cell_type": "markdown",
   "metadata": {},
   "source": [
    "At some point we must cross a boundary between the stable and unstable states. This boundary is characterised by the critical load $P_{cr}$."
   ]
  },
  {
   "cell_type": "markdown",
   "metadata": {},
   "source": [
    "<mark><font color='red'><b>💡The critical load, $P_{cr}$ is the axial load at which a structure under compression will move from a stable condition or state to an unstable one.</b></font></mark>\n",
    "\n",
    "Much of our work will now focus on determining what the critical load is for a variety of column support conditions. "
   ]
  },
  {
   "cell_type": "markdown",
   "metadata": {},
   "source": [
    "### 2.2 Determining the critical load (idealised structure)"
   ]
  },
  {
   "cell_type": "markdown",
   "metadata": {},
   "source": [
    "To determine the critical load for our idealised structure, we can 'cut' the structure at the location of the spring and consider equilibrium of the top half, the resulting free body diagram reveals the moment action of the spring at the cut end of the structure."
   ]
  },
  {
   "cell_type": "markdown",
   "metadata": {},
   "source": [
    "![title](img/1./image3.jpg)"
   ]
  },
  {
   "cell_type": "markdown",
   "metadata": {},
   "source": [
    "Considering this sub-structure, we can note the following:\n",
    "- We have vertical force equilibrium as a result of the internal axial force revealed by the cut at B\n",
    "- We also have moment equilibrium due to the couple creating by both $P$ forces balancing $M_B$.\n",
    "- If we assume that the displacement of the system is small, we can approximate the lateral deflection as:\n",
    "\n",
    "\\begin{equation}\n",
    "\\delta \\approx \\frac{L}{2}\\times \\theta\n",
    "\\end{equation}\n",
    "\n",
    "So, taking the sum of the moments about B and assuming clockwise moments are positive yields,\n",
    "\n",
    "\\begin{equation}\n",
    "P\\times\\delta-M_B=0\n",
    "\\end{equation}\n",
    "\n",
    "\\begin{equation}\n",
    "\\frac{PL\\theta}{2}-2\\theta\\beta_R=0\n",
    "\\end{equation}\n",
    "\n",
    "\\begin{equation}\n",
    "\\theta\\left(\\frac{PL}{2}-\\frac{2}{\\beta_R}\\right) =0\n",
    "\\end{equation}\n",
    "\n",
    "Now since we know, $\\theta$ isn't equal to zero, the expression in brackets must equal zero. So solving for $P$ yields,\n",
    "\n",
    "\\begin{equation}\n",
    "P_{cr} = \\frac{4\\beta_R}{L}\n",
    "\\end{equation}\n",
    "\n",
    "This is the value of $P$ for which the external axial load is balanced by the restoring moment of the rotational spring, as such, from what we said above, this is the critical load for our idealised structure, i.e. the axial load at which it is on the boundary between being stable and unstable."
   ]
  },
  {
   "cell_type": "markdown",
   "metadata": {},
   "source": [
    "## 3.0 Equilibrium and Stability"
   ]
  },
  {
   "cell_type": "markdown",
   "metadata": {},
   "source": [
    "It's important to establish a clear understanding of what we mean when using the terms equilibrium and stability, particularly in the context of a discussion on buckling."
   ]
  },
  {
   "cell_type": "markdown",
   "metadata": {},
   "source": [
    "### 3.1 When $P<P_{cr}$"
   ]
  },
  {
   "cell_type": "markdown",
   "metadata": {},
   "source": [
    "In this case the idealised structure is straight and in equilibrium."
   ]
  },
  {
   "cell_type": "markdown",
   "metadata": {},
   "source": [
    "<center><mark><b>💡The structure is in a state of equilibrium and that equilibrium is STABLE</b></mark></center>"
   ]
  },
  {
   "cell_type": "markdown",
   "metadata": {},
   "source": [
    "If a small lateral deflection is imposed on the structure, it will return to the straight position. A good analogy for this is a ball sitting on a concave surface. The ball will always return to the same stable state of equilibrium when a disturbing force is removed."
   ]
  },
  {
   "cell_type": "markdown",
   "metadata": {},
   "source": [
    "![title](img/1./image4.jpg)"
   ]
  },
  {
   "cell_type": "markdown",
   "metadata": {},
   "source": [
    "### 3.2 When $P>P_{cr}$"
   ]
  },
  {
   "cell_type": "markdown",
   "metadata": {},
   "source": [
    "In this case the idealised structure is straight and in a state of equilibrium also..."
   ]
  },
  {
   "cell_type": "markdown",
   "metadata": {},
   "source": [
    "<center><mark><b>💡The structure is in a state of equilibrium BUT that equilibrium is UNSTABLE</b></mark></center>"
   ]
  },
  {
   "cell_type": "markdown",
   "metadata": {},
   "source": [
    "The structure is in a precarious (unstable) state of equilibrium. The smallest possible lateral deflection or disturbance will cause the structure to buckle. From an engineering perspective we must avoid this state.\n",
    "\n",
    "The corresponding ball analogy is that of a ball precariously positioned as the top of a convex surface...the smallest disturbance will set the ball rolling."
   ]
  },
  {
   "cell_type": "markdown",
   "metadata": {},
   "source": [
    "![title](img/1./image5.jpg)"
   ]
  },
  {
   "cell_type": "markdown",
   "metadata": {},
   "source": [
    "### When $P=P_{cr}$"
   ]
  },
  {
   "cell_type": "markdown",
   "metadata": {},
   "source": [
    "In this case the disturbing effect of the axial load is matched by the restoring effect of the moment $M_B$. "
   ]
  },
  {
   "cell_type": "markdown",
   "metadata": {},
   "source": [
    "<mark><b>💡When $P=P_{cr}$, for any 'small' angle, the structure remains in a state of NEUTRAL EQUILIBRIUM - how practical do you think this is?</b></mark>"
   ]
  },
  {
   "cell_type": "markdown",
   "metadata": {},
   "source": [
    "This case is analogous to a ball sitting on a perfectly flat surface. We can visualise the various states of equilibrium  in a graph of axial load versus angle of rotation."
   ]
  },
  {
   "cell_type": "markdown",
   "metadata": {},
   "source": [
    "![title](img/1./image6.jpg)"
   ]
  },
  {
   "cell_type": "markdown",
   "metadata": {},
   "source": [
    "All points identified in red on the graph above represent states of equilibrium. Notice that *in theory*, for an undefined range of $\\theta$ (angles of rotation), when $P=P_{cr}$, we have a state of neutral equilibrium and the structure could keep deflecting.\n",
    "\n",
    "From a practical point of view, we always aim to maintain axial loads well below the critical buckling load for a structure. The concept of neutral equilibrium can be thought of as a theoretical state that is highly unlikely to be observed in practice. \n",
    "\n",
    "Up to this point we've discussed a simplified idealised structure that has all of its resistance to rotation concentrated at the midpoint in a rotational spring. This has allowed us to get a feel for some important concepts. \n",
    "\n",
    "Next, we'll expand to start thinking about more realistic structures that have distributed flexural rigidity."
   ]
  },
  {
   "cell_type": "markdown",
   "metadata": {},
   "source": [
    "<mark><font color='red'><b>⚠️ Remember, the assumption that underpins everything we've said so far, is that we're dealing with small deflections. As the magnitude of the deflection increase relative to the size of the structure, our assumption (and therefore our model) breaks down.</b></font></mark>"
   ]
  },
  {
   "cell_type": "markdown",
   "metadata": {},
   "source": [
    "### Exercise 1"
   ]
  },
  {
   "cell_type": "markdown",
   "metadata": {},
   "source": [
    "Consider the idealised structure shown below. It consists of 2 rigid members joined by a rotational pin. Its resistance to buckling is provided by three rotational springs, each with rotational stiffness $\\beta_R$. Determine an expression for the critical load, $P_{cr}$ for this idealised structure. "
   ]
  },
  {
   "cell_type": "markdown",
   "metadata": {},
   "source": [
    "![title](img/1./image7.jpg)"
   ]
  },
  {
   "cell_type": "markdown",
   "metadata": {},
   "source": [
    "### Exercise 2"
   ]
  },
  {
   "cell_type": "markdown",
   "metadata": {},
   "source": [
    "Consider the idealised structure shown below. It consists of 2 rigid members joined by a rotational pin. Its resistance to buckling is provided by a single rotational spring at C with rotational stiffness $\\beta_R$. Determine an expression for the critical load, $P_{cr}$ for this idealised structure. "
   ]
  },
  {
   "cell_type": "markdown",
   "metadata": {},
   "source": [
    "![title](img/1./image8.jpg)"
   ]
  }
 ],
 "metadata": {
  "hide_input": false,
  "kernelspec": {
   "display_name": "Python 3",
   "language": "python",
   "name": "python3"
  },
  "language_info": {
   "codemirror_mode": {
    "name": "ipython",
    "version": 3
   },
   "file_extension": ".py",
   "mimetype": "text/x-python",
   "name": "python",
   "nbconvert_exporter": "python",
   "pygments_lexer": "ipython3",
   "version": "3.6.4"
  }
 },
 "nbformat": 4,
 "nbformat_minor": 2
}
